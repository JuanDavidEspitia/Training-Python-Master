{
 "cells": [
  {
   "cell_type": "markdown",
   "metadata": {},
   "source": [
    "# Herencia"
   ]
  },
  {
   "cell_type": "markdown",
   "metadata": {},
   "source": [
    "La herencia es la capacidad que tiene una clase de heredar los atributos y metodos de otra y ademas de agregarle los propios metodos de la clase. o modificar los metodos "
   ]
  },
  {
   "cell_type": "markdown",
   "metadata": {},
   "source": [
    "1. Implementar la herencia\n",
    "2. Atributos y metodos heredados\n",
    "3. Que es polimorfismo\n",
    "4. Herencia multiple"
   ]
  },
  {
   "cell_type": "markdown",
   "metadata": {},
   "source": [
    "Ejemplo de tienda:\n",
    "\n",
    "En la tienda se vendia tres tipos de productos:\n",
    "1. Adornos\n",
    "2. Alimentos\n",
    "3. Libros\n",
    "\n",
    "Todos compartian el hecho de tener una referencia, un nombre, un precio y una descripcion.\n",
    "\n",
    "Pero los alimentos tenian atributos de Productor y Distribuidor\n",
    "\n",
    "Los libros tenian adicionalmente atrbutos de ISBN y Autor.\n",
    "\n",
    "\n",
    "\n",
    "\n",
    "\n",
    "    "
   ]
  },
  {
   "cell_type": "code",
   "execution_count": null,
   "metadata": {},
   "outputs": [],
   "source": []
  },
  {
   "cell_type": "code",
   "execution_count": null,
   "metadata": {},
   "outputs": [],
   "source": []
  },
  {
   "cell_type": "code",
   "execution_count": null,
   "metadata": {},
   "outputs": [],
   "source": []
  }
 ],
 "metadata": {
  "kernelspec": {
   "display_name": "Python 3",
   "language": "python",
   "name": "python3"
  },
  "language_info": {
   "codemirror_mode": {
    "name": "ipython",
    "version": 3
   },
   "file_extension": ".py",
   "mimetype": "text/x-python",
   "name": "python",
   "nbconvert_exporter": "python",
   "pygments_lexer": "ipython3",
   "version": "3.6.9"
  }
 },
 "nbformat": 4,
 "nbformat_minor": 2
}

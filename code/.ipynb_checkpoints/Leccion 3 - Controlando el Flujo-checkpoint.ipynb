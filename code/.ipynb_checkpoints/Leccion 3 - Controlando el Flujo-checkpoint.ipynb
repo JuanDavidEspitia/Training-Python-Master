{
 "cells": [
  {
   "cell_type": "markdown",
   "metadata": {},
   "source": [
    "# El Flujo"
   ]
  },
  {
   "cell_type": "markdown",
   "metadata": {},
   "source": [
    "Se entiende asi a la sucesion de Instrucciones de un programa informatico"
   ]
  },
  {
   "cell_type": "markdown",
   "metadata": {},
   "source": [
    "Estas suseciones se ejecutan de forma ordenada e ineludible y suelen tener un objetivo final, de manipular informacion"
   ]
  },
  {
   "cell_type": "markdown",
   "metadata": {},
   "source": [
    "## Sentencias de control"
   ]
  },
  {
   "cell_type": "markdown",
   "metadata": {},
   "source": [
    "1. **Condicionales:** Para elegir entre distintas posiblidades\n",
    "2. **Iterativas:** Para repetir un bloque de instrucciones \n"
   ]
  },
  {
   "cell_type": "markdown",
   "metadata": {},
   "source": [
    "# Sentencia IF (Condicional)"
   ]
  },
  {
   "cell_type": "markdown",
   "metadata": {},
   "source": [
    "Permite dividir el flujo de un programa en diferentes caminos"
   ]
  },
  {
   "cell_type": "code",
   "execution_count": 3,
   "metadata": {},
   "outputs": [
    {
     "name": "stdout",
     "output_type": "stream",
     "text": [
      "Se cumple la condicion\n",
      "Tambien se muestra este print\n"
     ]
    }
   ],
   "source": [
    "if True:\n",
    "    print(\"Se cumple la condicion\")\n",
    "    print(\"Tambien se muestra este print\")"
   ]
  },
  {
   "cell_type": "markdown",
   "metadata": {},
   "source": [
    "En Pyhton despues de hacer uso de una sentencia de control, se llama **Bloque de Codigo**"
   ]
  },
  {
   "cell_type": "markdown",
   "metadata": {},
   "source": [
    "Todo Bloque de codigo debe estar **Indentado**, por que indica que esta dentro de un bloque de codigo"
   ]
  },
  {
   "cell_type": "code",
   "execution_count": 4,
   "metadata": {},
   "outputs": [],
   "source": [
    "# No entra al IF por que es false la condicion\n",
    "if False:\n",
    "    print(\"Se cumple la condicion\")\n",
    "    print(\"Tambien se muestra este print\")"
   ]
  },
  {
   "cell_type": "code",
   "execution_count": 5,
   "metadata": {},
   "outputs": [
    {
     "name": "stdout",
     "output_type": "stream",
     "text": [
      "Se cumple la condicion\n",
      "Tambien se muestra este print\n"
     ]
    }
   ],
   "source": [
    "# En este caso negacion el False\n",
    "if not False:\n",
    "    print(\"Se cumple la condicion\")\n",
    "    print(\"Tambien se muestra este print\")"
   ]
  },
  {
   "cell_type": "code",
   "execution_count": 6,
   "metadata": {},
   "outputs": [
    {
     "name": "stdout",
     "output_type": "stream",
     "text": [
      " A vale 5\n"
     ]
    }
   ],
   "source": [
    "a = 5\n",
    "if a == 2: # Este resultado es falso, por tanto no ejecuta su bloque de codigo\n",
    "    print(\" A vale 2\")\n",
    "if a == 5:\n",
    "    print(\" A vale 5\")"
   ]
  },
  {
   "cell_type": "code",
   "execution_count": 9,
   "metadata": {},
   "outputs": [
    {
     "name": "stdout",
     "output_type": "stream",
     "text": [
      "a vale:  5\n",
      "b vale:  10\n"
     ]
    }
   ],
   "source": [
    "a = 5 \n",
    "b = 10\n",
    "if a == 5:\n",
    "    print(\"a vale: \", a)\n",
    "    if b == 10:\n",
    "        print(\"b vale: \", b)"
   ]
  },
  {
   "cell_type": "code",
   "execution_count": 10,
   "metadata": {},
   "outputs": [
    {
     "name": "stdout",
     "output_type": "stream",
     "text": [
      "a vale 5 y b vale 10\n"
     ]
    }
   ],
   "source": [
    "if a == 5 and b == 10:\n",
    "    print(\"a vale 5 y b vale 10\")"
   ]
  },
  {
   "cell_type": "markdown",
   "metadata": {},
   "source": [
    "## Sentencia Else (Sino)"
   ]
  },
  {
   "cell_type": "markdown",
   "metadata": {},
   "source": [
    "Se encadena a un IF para indicar el caso contrario cuando no se cumople la condicion principal"
   ]
  },
  {
   "cell_type": "code",
   "execution_count": 12,
   "metadata": {},
   "outputs": [
    {
     "name": "stdout",
     "output_type": "stream",
     "text": [
      "es un numero impar\n"
     ]
    }
   ],
   "source": [
    "n = 7\n",
    "if n % 2 == 0:\n",
    "    print(\"es un numero par\")\n",
    "else:\n",
    "    print(\"es un numero impar\")"
   ]
  },
  {
   "cell_type": "markdown",
   "metadata": {},
   "source": [
    "## Sentencia Elif"
   ]
  },
  {
   "cell_type": "markdown",
   "metadata": {},
   "source": [
    "Se encadena a un IF para comprobar otra posible condicion, **siempre que la anterior no se cumpla**"
   ]
  },
  {
   "cell_type": "code",
   "execution_count": 19,
   "metadata": {},
   "outputs": [
    {
     "name": "stdout",
     "output_type": "stream",
     "text": [
      "Saliendo del sistema...\n"
     ]
    }
   ],
   "source": [
    "comando = \"SALIR\"\n",
    "if comando  == \"ENTRAR\":\n",
    "    print(\"Bienvenido al sistema\")\n",
    "elif comando == \"SALUDAR\":\n",
    "    print(\"Hola, espero estes pasando bien aprendiendo python\")\n",
    "elif comando == \"APAGAR\":\n",
    "    print(\"Se apagara por completo el equipo\")\n",
    "elif comando == \"SALIR\":\n",
    "    print(\"Saliendo del sistema...\")\n",
    "else:\n",
    "    print(\"No se reconoce el comando\")"
   ]
  },
  {
   "cell_type": "markdown",
   "metadata": {},
   "source": [
    "En esta sentencia de control, se comprueba los condicionales de arriba hacia abajo"
   ]
  },
  {
   "cell_type": "markdown",
   "metadata": {},
   "source": [
    "### Ejercicio de calificaciones"
   ]
  },
  {
   "cell_type": "code",
   "execution_count": 22,
   "metadata": {},
   "outputs": [
    {
     "name": "stdout",
     "output_type": "stream",
     "text": [
      "Introduce una nota: 10\n",
      "La nota es Excelente\n"
     ]
    }
   ],
   "source": [
    "nota = float(input(\"Introduce una nota: \")) # Pedimos un numero por consola\n",
    "if nota >= 9:\n",
    "    print(\"La nota es Excelente\")\n",
    "elif nota >= 7 and nota < 9:\n",
    "    print(\"La nota es Aceptable\")\n",
    "elif nota >= 5 and nota < 7:\n",
    "    print(\"La nota es Regular\")\n",
    "elif nota >= 2 and nota < 5:\n",
    "    print(\"La nota es Insuficiente\")\n",
    "else:\n",
    "    print(\"La nota es Deficiente\")"
   ]
  },
  {
   "cell_type": "code",
   "execution_count": 24,
   "metadata": {},
   "outputs": [
    {
     "name": "stdout",
     "output_type": "stream",
     "text": [
      "Introduce una nota: 11\n",
      "La nota es Excelente\n",
      "La nota es Aceptable\n",
      "La nota es Regular\n",
      "La nota es Insuficiente\n"
     ]
    }
   ],
   "source": [
    "# Con este bloque de codigo, cuando le ingresamos un numero este se evalua en todos los casos menores tambien\n",
    "# Debido a que se cumple las condiciones menore\n",
    "nota = float(input(\"Introduce una nota: \")) # Pedimos un numero por consola\n",
    "if nota >= 9:\n",
    "    print(\"La nota es Excelente\")\n",
    "if nota >= 7:\n",
    "    print(\"La nota es Aceptable\")\n",
    "if nota >= 5:\n",
    "    print(\"La nota es Regular\")\n",
    "if nota >= 2:\n",
    "    print(\"La nota es Insuficiente\")\n",
    "else:\n",
    "    print(\"La nota es Deficiente\")"
   ]
  },
  {
   "cell_type": "markdown",
   "metadata": {},
   "source": [
    "**La palabra Pass --> Nos permite definir un bloque Vacio**"
   ]
  },
  {
   "cell_type": "code",
   "execution_count": 25,
   "metadata": {},
   "outputs": [],
   "source": [
    "if True:\n",
    "    pass # Es util para crear esqueletos de bloques de codigo"
   ]
  },
  {
   "cell_type": "code",
   "execution_count": 1,
   "metadata": {},
   "outputs": [
    {
     "name": "stdout",
     "output_type": "stream",
     "text": [
      "¿Cuántos años tiene? 17\n",
      "Es usted menor de edad\n",
      "¡Hasta la próxima!\n"
     ]
    }
   ],
   "source": [
    "edad = int(input(\"¿Cuántos años tiene? \"))\n",
    "if edad < 18:\n",
    "    print(\"Es usted menor de edad\")\n",
    "else:\n",
    "    print(\"Es usted mayor de edad\")\n",
    "print(\"¡Hasta la próxima!\")"
   ]
  },
  {
   "cell_type": "code",
   "execution_count": 2,
   "metadata": {},
   "outputs": [
    {
     "name": "stdout",
     "output_type": "stream",
     "text": [
      "Escriba un número: 10\n",
      "10 es múltiplo de dos\n"
     ]
    }
   ],
   "source": [
    "numero = int(input(\"Escriba un número: \"))\n",
    "if numero % 2 == 0 and numero % 4 != 0:\n",
    "    print(f\"{numero} es múltiplo de dos\")\n",
    "elif numero % 4 == 0:\n",
    "    print(f\"{numero} es múltiplo de cuatro y de dos\")\n",
    "else:\n",
    "    print(f\"{numero} no es múltiplo de dos\")"
   ]
  },
  {
   "cell_type": "markdown",
   "metadata": {},
   "source": [
    "# Sentencia While (Ciclo)"
   ]
  },
  {
   "cell_type": "code",
   "execution_count": 27,
   "metadata": {},
   "outputs": [
    {
     "name": "stdout",
     "output_type": "stream",
     "text": [
      "1\n",
      "2\n",
      "3\n",
      "4\n",
      "5\n",
      "6\n",
      "7\n",
      "8\n",
      "9\n",
      "10\n"
     ]
    }
   ],
   "source": [
    "numeros = [1,2,3,4,5,6,7,8,9,10]\n",
    "indice = 0\n",
    "while(indice < len(numeros)):\n",
    "    print(numeros[indice]) # Nos muestra cada numero de la lista de Numeros, recorre cada posicion y muestra lo que hay dentro\n",
    "    indice += 1"
   ]
  },
  {
   "cell_type": "code",
   "execution_count": 3,
   "metadata": {},
   "outputs": [
    {
     "name": "stdout",
     "output_type": "stream",
     "text": [
      "1\n",
      "2\n",
      "3\n",
      "Programa terminado\n"
     ]
    }
   ],
   "source": [
    "i = 1\n",
    "while i <= 3:\n",
    "    print(i)\n",
    "    i += 1\n",
    "print(\"Programa terminado\")"
   ]
  },
  {
   "cell_type": "code",
   "execution_count": 4,
   "metadata": {},
   "outputs": [
    {
     "name": "stdout",
     "output_type": "stream",
     "text": [
      "Escriba un número positivo: 2\n",
      "Gracias por su colaboración\n"
     ]
    }
   ],
   "source": [
    "numero = int(input(\"Escriba un número positivo: \"))\n",
    "while numero < 0:\n",
    "    print(\"¡Ha escrito un número negativo! Inténtelo de nuevo\")\n",
    "    numero = int(input(\"Escriba un número positivo: \"))\n",
    "print(\"Gracias por su colaboración\")"
   ]
  },
  {
   "cell_type": "markdown",
   "metadata": {},
   "source": [
    "# Sentencia FOR (Ciclo)"
   ]
  },
  {
   "cell_type": "markdown",
   "metadata": {},
   "source": [
    "#### Sintaxis"
   ]
  },
  {
   "cell_type": "raw",
   "metadata": {},
   "source": [
    "for variable in elemento iterable (lista, cadena, range, etc.):\n",
    "    cuerpo del bucle"
   ]
  },
  {
   "cell_type": "code",
   "execution_count": 29,
   "metadata": {},
   "outputs": [
    {
     "name": "stdout",
     "output_type": "stream",
     "text": [
      "1\n",
      "2\n",
      "3\n",
      "4\n",
      "5\n",
      "6\n",
      "7\n",
      "8\n",
      "9\n",
      "10\n"
     ]
    }
   ],
   "source": [
    "# La sentecia FOR indica\n",
    "# for indice in (in -> indica que recorre dentro de una estructura de datas) estructura:\n",
    "# eje:  for x in lista:\n",
    "# este valor X recorre en cada posicion de la lista y obtiene ese valor de la lista que esta en esa posicion\n",
    "\n",
    "for numero in numeros: # Para cada numero dentro de la lista de numeros\n",
    "    print(numero) # Imprime el numero dentro"
   ]
  },
  {
   "cell_type": "markdown",
   "metadata": {},
   "source": [
    "***Crea una variable y en cada iteracion guarda el valor de la lista mientras la va recorriendo***"
   ]
  },
  {
   "cell_type": "code",
   "execution_count": 30,
   "metadata": {},
   "outputs": [],
   "source": [
    "for numero in numeros:\n",
    "    numero *= 10"
   ]
  },
  {
   "cell_type": "code",
   "execution_count": 31,
   "metadata": {},
   "outputs": [
    {
     "data": {
      "text/plain": [
       "[1, 2, 3, 4, 5, 6, 7, 8, 9, 10]"
      ]
     },
     "execution_count": 31,
     "metadata": {},
     "output_type": "execute_result"
    }
   ],
   "source": [
    "numeros"
   ]
  },
  {
   "cell_type": "code",
   "execution_count": 33,
   "metadata": {},
   "outputs": [
    {
     "data": {
      "text/plain": [
       "[10, 20, 30, 40, 50, 60, 70, 80, 90, 100]"
      ]
     },
     "execution_count": 33,
     "metadata": {},
     "output_type": "execute_result"
    }
   ],
   "source": [
    "indice = 0\n",
    "numeros = [1,2,3,4,5,6,7,8,9,10]\n",
    "for numero in numeros: \n",
    "    numeros[indice] *= 10\n",
    "    indice += 1\n",
    "    \n",
    "numeros"
   ]
  },
  {
   "cell_type": "markdown",
   "metadata": {},
   "source": [
    "Lectura sequencial con clave y valor "
   ]
  },
  {
   "cell_type": "code",
   "execution_count": 34,
   "metadata": {},
   "outputs": [
    {
     "data": {
      "text/plain": [
       "[10, 20, 30, 40, 50, 60, 70, 80, 90, 100]"
      ]
     },
     "execution_count": 34,
     "metadata": {},
     "output_type": "execute_result"
    }
   ],
   "source": [
    "numeros = [1,2,3,4,5,6,7,8,9,10]\n",
    "for indice, numero in enumerate(numeros): # Enumerate nos devuelve un indice y lo guarda en la variable indice\n",
    "    numeros[indice] *= 10\n",
    "numeros"
   ]
  },
  {
   "cell_type": "code",
   "execution_count": 9,
   "metadata": {},
   "outputs": [
    {
     "name": "stdout",
     "output_type": "stream",
     "text": [
      "El bucle no ha comenzado. Ahora i vale 10\n",
      "0 * 0 = 0\n",
      "1 * 1 = 1\n",
      "2 * 2 = 4\n",
      "3 * 3 = 9\n",
      "4 * 4 = 16\n",
      "El bucle ha terminado. Ahora i vale 4\n"
     ]
    }
   ],
   "source": [
    "i = 10\n",
    "print(f\"El bucle no ha comenzado. Ahora i vale {i}\")\n",
    "\n",
    "for i in [0, 1, 2, 3, 4]:\n",
    "    print(f\"{i} * {i} = {i ** 2}\")\n",
    "\n",
    "print(f\"El bucle ha terminado. Ahora i vale {i}\")"
   ]
  },
  {
   "cell_type": "code",
   "execution_count": 6,
   "metadata": {},
   "outputs": [
    {
     "name": "stdout",
     "output_type": "stream",
     "text": [
      "Comienzo\n",
      "Hola. Ahora i vale 3 y su cuadrado es 9\n",
      "Hola. Ahora i vale 4 y su cuadrado es 16\n",
      "Hola. Ahora i vale 5 y su cuadrado es 25\n",
      "Final\n"
     ]
    }
   ],
   "source": [
    "print(\"Comienzo\")\n",
    "for i in [3, 4, 5]:\n",
    "    print(f\"Hola. Ahora i vale {i} y su cuadrado es {i ** 2}\")\n",
    "print(\"Final\")"
   ]
  },
  {
   "cell_type": "markdown",
   "metadata": {},
   "source": [
    "Lo podemos usar para recorrer una cadena de texto"
   ]
  },
  {
   "cell_type": "code",
   "execution_count": 7,
   "metadata": {},
   "outputs": [
    {
     "name": "stdout",
     "output_type": "stream",
     "text": [
      "Comienzo\n",
      "Hola. Ahora i vale Alba\n",
      "Hola. Ahora i vale Benito\n",
      "Hola. Ahora i vale 27\n",
      "Final\n"
     ]
    }
   ],
   "source": [
    "print(\"Comienzo\")\n",
    "for i in [\"Alba\", \"Benito\", 27]:\n",
    "    print(f\"Hola. Ahora i vale {i}\")\n",
    "print(\"Final\")"
   ]
  },
  {
   "cell_type": "code",
   "execution_count": 8,
   "metadata": {},
   "outputs": [
    {
     "name": "stdout",
     "output_type": "stream",
     "text": [
      "H\n",
      "o\n",
      "l\n",
      "a\n",
      " \n",
      "a\n",
      "m\n",
      "i\n",
      "g\n",
      "o\n",
      "s\n"
     ]
    }
   ],
   "source": [
    "cadena = \"Hola amigos\"\n",
    "for caracter in cadena:\n",
    "    print(caracter)"
   ]
  },
  {
   "cell_type": "code",
   "execution_count": 10,
   "metadata": {},
   "outputs": [],
   "source": [
    "cadena2 = \"\"\n",
    "for caracter in cadena:\n",
    "    cadena2 += \"+\""
   ]
  },
  {
   "cell_type": "code",
   "execution_count": 12,
   "metadata": {},
   "outputs": [
    {
     "data": {
      "text/plain": [
       "'+++++++++++'"
      ]
     },
     "execution_count": 12,
     "metadata": {},
     "output_type": "execute_result"
    }
   ],
   "source": [
    "cadena2"
   ]
  },
  {
   "cell_type": "markdown",
   "metadata": {},
   "source": [
    "Funcion range() "
   ]
  },
  {
   "cell_type": "code",
   "execution_count": 13,
   "metadata": {},
   "outputs": [
    {
     "name": "stdout",
     "output_type": "stream",
     "text": [
      "Comienzo\n",
      "Hola Hola Hola Hola Hola Hola Hola Hola Hola Hola \n",
      "Final\n"
     ]
    }
   ],
   "source": [
    "print(\"Comienzo\")\n",
    "for i in range(10):\n",
    "    print(\"Hola \", end=\"\")\n",
    "print()\n",
    "print(\"Final\")"
   ]
  },
  {
   "cell_type": "code",
   "execution_count": 14,
   "metadata": {},
   "outputs": [
    {
     "name": "stdout",
     "output_type": "stream",
     "text": [
      "Comienzo\n",
      "Desde 1 hasta 5 hay 2 múltiplos de 2\n"
     ]
    }
   ],
   "source": [
    "print(\"Comienzo\")\n",
    "cuenta = 0\n",
    "for i in range(1, 6):\n",
    "    if i % 2 == 0:\n",
    "        cuenta = cuenta + 1\n",
    "print(f\"Desde 1 hasta 5 hay {cuenta} múltiplos de 2\")"
   ]
  },
  {
   "cell_type": "code",
   "execution_count": 16,
   "metadata": {},
   "outputs": [
    {
     "name": "stdout",
     "output_type": "stream",
     "text": [
      "Comienzo\n",
      "La suma de los números de 1 a 4 es 10\n"
     ]
    }
   ],
   "source": [
    "# Ejemplo de acomulador\n",
    "print(\"Comienzo\")\n",
    "suma = 0\n",
    "for i in [1, 2, 3, 4]:\n",
    "    suma = suma + i\n",
    "print(f\"La suma de los números de 1 a 4 es {suma}\")"
   ]
  },
  {
   "cell_type": "markdown",
   "metadata": {},
   "source": [
    "### Bucle anidado"
   ]
  },
  {
   "cell_type": "code",
   "execution_count": 18,
   "metadata": {},
   "outputs": [
    {
     "name": "stdout",
     "output_type": "stream",
     "text": [
      "i vale 0 y j vale 0\n",
      "i vale 0 y j vale 1\n",
      "i vale 1 y j vale 0\n",
      "i vale 1 y j vale 1\n",
      "i vale 2 y j vale 0\n",
      "i vale 2 y j vale 1\n",
      "i vale 3 y j vale 0\n",
      "i vale 3 y j vale 1\n"
     ]
    }
   ],
   "source": [
    "for i in [0, 1, 2, 3]:\n",
    "    for j in [0, 1]:\n",
    "        print(f\"i vale {i} y j vale {j}\")"
   ]
  },
  {
   "cell_type": "markdown",
   "metadata": {},
   "source": [
    "## Ejercicios"
   ]
  },
  {
   "cell_type": "markdown",
   "metadata": {},
   "source": [
    "### Ejercicio 1\n",
    "Realiza un programa que lea dos números por teclado y permita elegir entre 3 opciones en un menú:\n",
    "\n",
    "- Mostrar una suma de los dos números\n",
    "- Mostrar una resta de los dos números (el primero menos el segundo)\n",
    "- Mostrar una multiplicación de los dos números\n",
    "- En caso de introducir una opción inválida, el programa informará de que no es correcta."
   ]
  },
  {
   "cell_type": "code",
   "execution_count": 20,
   "metadata": {},
   "outputs": [
    {
     "name": "stdout",
     "output_type": "stream",
     "text": [
      "Ingrese el primer numero: 10\n",
      "Ingrese el segundo numero: 2\n",
      "\n",
      "¿Qué quieres hacer?\n",
      "1) Sumar los dos números\n",
      "2) Restar los dos números\n",
      "3) Multiplicar los dos números\n",
      "\n",
      "Introduce un número segun la operacion que desees realizar: 3\n",
      "La multiplicacion de los dos numeros es:  20.0\n"
     ]
    }
   ],
   "source": [
    "numero1 = float(input(\"Ingrese el primer numero: \"))\n",
    "numero2 = float(input(\"Ingrese el segundo numero: \"))\n",
    "print(\"\"\"\n",
    "¿Qué quieres hacer?\n",
    "1) Sumar los dos números\n",
    "2) Restar los dos números\n",
    "3) Multiplicar los dos números\n",
    "\"\"\")\n",
    "opcion = int(input(\"Introduce un número segun la operacion que desees realizar: \") ) \n",
    "\n",
    "if opcion == 1:\n",
    "    print(\"La suma de los numeros es: \", numero1 + numero2)\n",
    "elif opcion == 2:\n",
    "    print(\"La resta de los dos numeros es: \", numero1 - numero2)\n",
    "elif opcion == 3:\n",
    "    print(\"La multiplicacion de los dos numeros es: \", numero1 * numero2)\n",
    "else:\n",
    "    print(\"No introdujo un numero para operacion correcta\")\n",
    "\n",
    "\n",
    "\n",
    "\n"
   ]
  },
  {
   "cell_type": "markdown",
   "metadata": {},
   "source": [
    "### Ejercicio 2\n",
    "Realiza un programa que lea un número impar por teclado. Si el usuario no introduce un número impar, debe repetise el proceso hasta que lo introduzca correctamente."
   ]
  },
  {
   "cell_type": "code",
   "execution_count": 22,
   "metadata": {},
   "outputs": [
    {
     "name": "stdout",
     "output_type": "stream",
     "text": [
      "Introduce un número impar: 2\n",
      "Introduce un número impar: 4\n",
      "Introduce un número impar: 6\n",
      "Introduce un número impar: 8\n",
      "Introduce un número impar: 3\n"
     ]
    }
   ],
   "source": [
    "numero =  0\n",
    "while numero % 2 == 0:  # Mientras sea par repetimos el proceso\n",
    "    numero = int(input(\"Introduce un número impar: \") )\n"
   ]
  },
  {
   "cell_type": "markdown",
   "metadata": {},
   "source": [
    "### Ejercicio 3\n",
    "Realiza un programa que sume todos los números enteros pares desde el 0 hasta el 100."
   ]
  },
  {
   "cell_type": "code",
   "execution_count": 23,
   "metadata": {},
   "outputs": [
    {
     "name": "stdout",
     "output_type": "stream",
     "text": [
      "2550\n",
      "2550\n"
     ]
    }
   ],
   "source": [
    "# Primera forma con función sum()\n",
    "suma = sum( range(0, 101, 2) )\n",
    "print(suma)\n",
    "\n",
    "# Segunda forma con bucles\n",
    "num = 0\n",
    "suma = 0\n",
    "\n",
    "while num <= 100:\n",
    "    if num % 2 == 0:\n",
    "        suma += num\n",
    "    num += 1\n",
    "\n",
    "print(suma)"
   ]
  },
  {
   "cell_type": "markdown",
   "metadata": {},
   "source": [
    "### Ejercicio 4\n",
    "Realiza un programa que pida al usuario cuantos números quiere introducir. Luego lee todos los números y realiza una media aritmética."
   ]
  },
  {
   "cell_type": "code",
   "execution_count": 24,
   "metadata": {},
   "outputs": [
    {
     "name": "stdout",
     "output_type": "stream",
     "text": [
      "¿Cuántos números quieres introducir? 3\n",
      "Introduce un número: 1\n",
      "Introduce un número: 2\n",
      "Introduce un número: 3\n",
      "Se han introducido 3 números que en total han sumado 6.0 y la media es 2.0\n"
     ]
    }
   ],
   "source": [
    "suma = 0\n",
    "numeros = int(input(\"¿Cuántos números quieres introducir? \") )\n",
    "for x in range(numeros):\n",
    "    suma += float(input(\"Introduce un número: \") )\n",
    "print(\"Se han introducido\", numeros, \"números que en total han sumado\", \n",
    "        suma, \"y la media es\", suma/numeros)"
   ]
  },
  {
   "cell_type": "code",
   "execution_count": null,
   "metadata": {},
   "outputs": [],
   "source": []
  }
 ],
 "metadata": {
  "kernelspec": {
   "display_name": "Python 3",
   "language": "python",
   "name": "python3"
  },
  "language_info": {
   "codemirror_mode": {
    "name": "ipython",
    "version": 3
   },
   "file_extension": ".py",
   "mimetype": "text/x-python",
   "name": "python",
   "nbconvert_exporter": "python",
   "pygments_lexer": "ipython3",
   "version": "3.6.9"
  }
 },
 "nbformat": 4,
 "nbformat_minor": 2
}

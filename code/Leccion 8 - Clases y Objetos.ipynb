{
 "cells": [
  {
   "cell_type": "markdown",
   "metadata": {},
   "source": [
    "# Programacion Orientada a Objetos (POO)"
   ]
  },
  {
   "cell_type": "markdown",
   "metadata": {},
   "source": [
    "Paradigma de solucion de problemas que identifica entidades de la realidad y las traslada a clases y objetos"
   ]
  },
  {
   "cell_type": "markdown",
   "metadata": {},
   "source": [
    "1. Clases y objetos\n",
    "2. La herencia de Clases\n",
    "3. Metodos de las colecciones"
   ]
  },
  {
   "cell_type": "markdown",
   "metadata": {},
   "source": [
    "## Clases"
   ]
  },
  {
   "cell_type": "markdown",
   "metadata": {},
   "source": [
    "Las clases son los moldes de los objetos, en cierta forma igual que un molde de galletas y las propias galletas.\n",
    "\n",
    "Las clases y los objetos son los conceptos más importantes de la Programación Orientada por Objetos (POO), y están fuertemente relacionados. Los objetos se crean a partir de clases, y las clases sirven como plantillas para crear objetos. A los objetos también se les llama instancias de clase.\n",
    "Utilicemos una analogía. Piensa en la palabra persona. Cuando hablamos de una persona no nos referimos a ninguna persona en particular, solo a la idea de la persona. Una persona tiene un nombre, una edad, una estatura, etc. Esa es la clase, la plantilla.\n",
    "Ahora piensa en personas específicas: tu, tu mamá, el presidente de tu país, Alan Turing, Nelson Mandela, etc. Esos son los objetos. Para cada persona puedes llenar los datos de la plantilla: el nombre, la edad, la estatura, etc."
   ]
  },
  {
   "cell_type": "markdown",
   "metadata": {},
   "source": [
    "**Una clase es un conjunto de objetos que comparten una estructura y comportamiento comunes.**"
   ]
  },
  {
   "cell_type": "markdown",
   "metadata": {},
   "source": [
    "**Ejemplo**"
   ]
  },
  {
   "cell_type": "code",
   "execution_count": 2,
   "metadata": {},
   "outputs": [],
   "source": [
    "# La clase es como un molde para crear objetos\n",
    "class Galleta:\n",
    "    pass\n",
    "    "
   ]
  },
  {
   "cell_type": "code",
   "execution_count": 3,
   "metadata": {},
   "outputs": [],
   "source": [
    "# Un objeto se conoce como una instancia de una Clase\n",
    "una_galleta = Galleta() \n",
    "otra_galleta = Galleta()"
   ]
  },
  {
   "cell_type": "code",
   "execution_count": 4,
   "metadata": {},
   "outputs": [
    {
     "data": {
      "text/plain": [
       "__main__.Galleta"
      ]
     },
     "execution_count": 4,
     "metadata": {},
     "output_type": "execute_result"
    }
   ],
   "source": [
    "type(una_galleta) # es de tipo __main__ --> algo punto galleta"
   ]
  },
  {
   "cell_type": "code",
   "execution_count": 5,
   "metadata": {},
   "outputs": [
    {
     "data": {
      "text/plain": [
       "int"
      ]
     },
     "execution_count": 5,
     "metadata": {},
     "output_type": "execute_result"
    }
   ],
   "source": [
    "type(9)"
   ]
  },
  {
   "cell_type": "code",
   "execution_count": 6,
   "metadata": {},
   "outputs": [
    {
     "data": {
      "text/plain": [
       "str"
      ]
     },
     "execution_count": 6,
     "metadata": {},
     "output_type": "execute_result"
    }
   ],
   "source": [
    "type(\"Cadena\")"
   ]
  },
  {
   "cell_type": "code",
   "execution_count": 7,
   "metadata": {},
   "outputs": [
    {
     "data": {
      "text/plain": [
       "list"
      ]
     },
     "execution_count": 7,
     "metadata": {},
     "output_type": "execute_result"
    }
   ],
   "source": [
    "type([])"
   ]
  },
  {
   "cell_type": "code",
   "execution_count": 8,
   "metadata": {},
   "outputs": [
    {
     "data": {
      "text/plain": [
       "function"
      ]
     },
     "execution_count": 8,
     "metadata": {},
     "output_type": "execute_result"
    }
   ],
   "source": [
    "def hola():\n",
    "    pass\n",
    "\n",
    "type(hola)"
   ]
  },
  {
   "cell_type": "markdown",
   "metadata": {},
   "source": [
    "**En python todo son objetos**"
   ]
  },
  {
   "cell_type": "markdown",
   "metadata": {},
   "source": [
    "## Atributos y Metodos"
   ]
  },
  {
   "cell_type": "code",
   "execution_count": 1,
   "metadata": {},
   "outputs": [],
   "source": [
    "class Galleta:\n",
    "    pass\n",
    "\n",
    "una_galleta =  Galleta()"
   ]
  },
  {
   "cell_type": "code",
   "execution_count": 3,
   "metadata": {},
   "outputs": [],
   "source": [
    "una_galleta.sabor = \"Salado\""
   ]
  },
  {
   "cell_type": "code",
   "execution_count": 4,
   "metadata": {},
   "outputs": [],
   "source": [
    "una_galleta.color = \"Marron\""
   ]
  },
  {
   "cell_type": "code",
   "execution_count": 5,
   "metadata": {},
   "outputs": [
    {
     "name": "stdout",
     "output_type": "stream",
     "text": [
      "El sabor de esta galleta es, Salado\n"
     ]
    }
   ],
   "source": [
    "print(\"El sabor de esta galleta es,\", una_galleta.sabor)"
   ]
  },
  {
   "cell_type": "code",
   "execution_count": 8,
   "metadata": {},
   "outputs": [
    {
     "data": {
      "text/plain": [
       "False"
      ]
     },
     "execution_count": 8,
     "metadata": {},
     "output_type": "execute_result"
    }
   ],
   "source": [
    "class Galleta:\n",
    "    chocolate = False\n",
    "    \n",
    "g = Galleta()\n",
    "g.chocolate"
   ]
  },
  {
   "cell_type": "code",
   "execution_count": 9,
   "metadata": {},
   "outputs": [
    {
     "data": {
      "text/plain": [
       "True"
      ]
     },
     "execution_count": 9,
     "metadata": {},
     "output_type": "execute_result"
    }
   ],
   "source": [
    "g.chocolate = True\n",
    "g.chocolate"
   ]
  },
  {
   "cell_type": "markdown",
   "metadata": {},
   "source": [
    "#### Metodo Init\n",
    "Es una funcion interna de la clase, que se comparte por todos los objetos de la misma clase.\n",
    "\n",
    "Concretamente el metodo inites un metodo especial que se ejecuta al crear un objeto. Permite ademas enviarle argumentos durante la instacion. los metodos especiales se escriben __init__"
   ]
  },
  {
   "cell_type": "markdown",
   "metadata": {},
   "source": [
    "#### Palabra self\n",
    "Hace referencia al propio objeto y sirve para diferenciar entre el ambito de clase y el de un metodo. es un requisito implicito en todos los metodos ya que por defecto al llamar cualquier metodo se pasa"
   ]
  },
  {
   "cell_type": "code",
   "execution_count": 11,
   "metadata": {},
   "outputs": [
    {
     "name": "stdout",
     "output_type": "stream",
     "text": [
      "Se acaba de crear una galleta\n"
     ]
    }
   ],
   "source": [
    "class Galleta():\n",
    "    chocolate = False\n",
    "    def __init__(self):\n",
    "        print(\"Se acaba de crear una galleta\")\n",
    "        \n",
    "g = Galleta()"
   ]
  },
  {
   "cell_type": "markdown",
   "metadata": {},
   "source": [
    "Una clase define un tipo de objeto, cuando lo llamas estas creando una instancia de esa clase, cuando quieres que algo suceda llamas a ese objeto y le indicas que lo haga.\n",
    "\n",
    "__init__ es el constructor de tu clase en el creas una nueva instancia de la clase, por ejemplo"
   ]
  },
  {
   "cell_type": "code",
   "execution_count": 12,
   "metadata": {},
   "outputs": [],
   "source": [
    "class perro():\n",
    "    def __init__(self, nombre, size, raza):\n",
    "        self.nombre=nombre\n",
    "        self.size=size\n",
    "        self.raza=raza\n",
    "\n",
    "    def ladra(self):\n",
    "        s = \"\"\n",
    "        for l in self.nombre:\n",
    "            s+=\"wof\"\n",
    "            print(s)"
   ]
  },
  {
   "cell_type": "code",
   "execution_count": 17,
   "metadata": {},
   "outputs": [],
   "source": [
    "perro1 = perro(\"Toby\",\"grande\",\"husky\")"
   ]
  },
  {
   "cell_type": "code",
   "execution_count": 18,
   "metadata": {},
   "outputs": [
    {
     "name": "stdout",
     "output_type": "stream",
     "text": [
      "wof\n",
      "wofwof\n",
      "wofwofwof\n",
      "wofwofwofwof\n"
     ]
    }
   ],
   "source": [
    "perro1.ladra()"
   ]
  },
  {
   "cell_type": "code",
   "execution_count": 19,
   "metadata": {},
   "outputs": [
    {
     "name": "stdout",
     "output_type": "stream",
     "text": [
      "Toby\n"
     ]
    }
   ],
   "source": [
    "print(perro1.nombre)"
   ]
  },
  {
   "cell_type": "code",
   "execution_count": 20,
   "metadata": {},
   "outputs": [
    {
     "name": "stdout",
     "output_type": "stream",
     "text": [
      "wof\n",
      "wofwof\n",
      "wofwofwof\n",
      "wofwofwofwof\n"
     ]
    }
   ],
   "source": [
    "cloe=perro(\"cloe\",\"mini\",\"chihuahua\")\n",
    "cloe.ladra()"
   ]
  },
  {
   "cell_type": "code",
   "execution_count": 21,
   "metadata": {},
   "outputs": [],
   "source": [
    "class Boton():\n",
    "    def __init__(self, texto = 'Botón', color = 'Azul', accion = None):\n",
    "        self.texto = texto\n",
    "        self.color = color\n",
    "        self.accion = accion\n",
    "        self.habilitado = True\n",
    "\n",
    "    def pulsar(self):\n",
    "        if self.accion:\n",
    "            if self.habilitado:\n",
    "                self.accion()\n",
    "            else:\n",
    "                print('Estoy desactivado, déjame en paz....')\n",
    "\n",
    "\n",
    "    def deshabilitar(self):\n",
    "        self.habilitado = False\n",
    "\n",
    "    def habilitar(self):\n",
    "        self.habilitado = True"
   ]
  },
  {
   "cell_type": "code",
   "execution_count": 22,
   "metadata": {},
   "outputs": [],
   "source": [
    "def holaMundo():\n",
    "    print('Hola mundo')\n",
    "\n",
    "def opinion():\n",
    "    print('Odio la POO... ¿Que m****a es esto?')\n",
    "\n",
    "boton1 = Boton(accion = opinion)\n",
    "boton2 = Boton(texto = 'Hola', accion = holaMundo)"
   ]
  },
  {
   "cell_type": "code",
   "execution_count": 23,
   "metadata": {},
   "outputs": [
    {
     "name": "stdout",
     "output_type": "stream",
     "text": [
      "Odio la POO... ¿Que m****a es esto?\n"
     ]
    }
   ],
   "source": [
    "boton1.pulsar()"
   ]
  },
  {
   "cell_type": "code",
   "execution_count": 24,
   "metadata": {},
   "outputs": [
    {
     "name": "stdout",
     "output_type": "stream",
     "text": [
      "Hola mundo\n"
     ]
    }
   ],
   "source": [
    "boton2.pulsar()"
   ]
  },
  {
   "cell_type": "markdown",
   "metadata": {},
   "source": [
    "Ejemplo 2"
   ]
  },
  {
   "cell_type": "code",
   "execution_count": 2,
   "metadata": {},
   "outputs": [
    {
     "name": "stdout",
     "output_type": "stream",
     "text": [
      "Se acaba de crear una galleta\n"
     ]
    },
    {
     "data": {
      "text/plain": [
       "False"
      ]
     },
     "execution_count": 2,
     "metadata": {},
     "output_type": "execute_result"
    }
   ],
   "source": [
    "class Galleta:\n",
    "    chocolate = False\n",
    "    \n",
    "    def __init__(self):\n",
    "        print(\"Se acaba de crear una galleta\")\n",
    "        \n",
    "    def chocolatear(self):\n",
    "        chocolate =  True # De esta forma crea una copia de la variable global, pero no la modifica en su totalidad\n",
    "        \n",
    "g = Galleta()\n",
    "g.chocolatear()\n",
    "g.chocolate"
   ]
  },
  {
   "cell_type": "code",
   "execution_count": 3,
   "metadata": {},
   "outputs": [
    {
     "name": "stdout",
     "output_type": "stream",
     "text": [
      "Se acaba de crear una galleta\n"
     ]
    },
    {
     "data": {
      "text/plain": [
       "True"
      ]
     },
     "execution_count": 3,
     "metadata": {},
     "output_type": "execute_result"
    }
   ],
   "source": [
    "class Galleta:\n",
    "    chocolate = False\n",
    "    \n",
    "    def __init__(self):\n",
    "        print(\"Se acaba de crear una galleta\")\n",
    "        \n",
    "    def chocolatear(self):\n",
    "        self.chocolate =  True # Para hacer uso de la variable global le anteponemos el self\n",
    "        \n",
    "g = Galleta()\n",
    "g.chocolatear()\n",
    "g.chocolate"
   ]
  },
  {
   "cell_type": "markdown",
   "metadata": {},
   "source": [
    "Creamos otro metodo interno"
   ]
  },
  {
   "cell_type": "code",
   "execution_count": 12,
   "metadata": {},
   "outputs": [],
   "source": [
    "class Galleta:\n",
    "    chocolate = False\n",
    "    \n",
    "    def __init__(self):\n",
    "        print(\"Se acaba de crear una galleta\")\n",
    "        \n",
    "    def chocolatear(self):\n",
    "        self.chocolate =  True # Para hacer uso de la variable global le anteponemos el self\n",
    "        \n",
    "        \n",
    "    def tiene_chocolate(self):\n",
    "        if (self.chocolate):\n",
    "            print(\"Soy una galleta de chocolate :D\")\n",
    "        else:\n",
    "\n",
    "            print(\"No tengo chocolate :( \")\n",
    "        "
   ]
  },
  {
   "cell_type": "code",
   "execution_count": 17,
   "metadata": {},
   "outputs": [
    {
     "name": "stdout",
     "output_type": "stream",
     "text": [
      "Se acaba de crear una galleta\n",
      "No tengo chocolate :( \n",
      "Soy una galleta de chocolate :D\n"
     ]
    }
   ],
   "source": [
    "g = Galleta()\n",
    "g.tiene_chocolate() # Inicialmente no tiene chocolate\n",
    "g.chocolatear() # Le seteamos el chocolate\n",
    "g.tiene_chocolate() # Ahora tiene chocolate"
   ]
  },
  {
   "cell_type": "code",
   "execution_count": 21,
   "metadata": {},
   "outputs": [],
   "source": [
    "class Galleta:\n",
    "    chocolate = False # Variables globales\n",
    "    forma = \"\"\n",
    "    \n",
    "    def __init__(self, sabor, color, forma):\n",
    "        self.sabor = sabor # Parametros de la funcion init\n",
    "        self.color = color\n",
    "        self.forma = forma\n",
    "        print(\"Se acaba de crear una galleta con sabor {} y color {} con forma {} \".format(sabor,color, forma))\n",
    "        \n",
    "    def chocolatear(self):\n",
    "        self.chocolate =  True # Para hacer uso de la variable global le anteponemos el self\n",
    "        \n",
    "        \n",
    "    def tiene_chocolate(self):\n",
    "        if (self.chocolate):\n",
    "            print(\"Soy una galleta de chocolate :D\")\n",
    "        else:\n",
    "\n",
    "            print(\"No tengo chocolate :( \")"
   ]
  },
  {
   "cell_type": "code",
   "execution_count": 22,
   "metadata": {},
   "outputs": [
    {
     "name": "stdout",
     "output_type": "stream",
     "text": [
      "Se acaba de crear una galleta con sabor Salada y color Marron con forma Cuadrada \n"
     ]
    }
   ],
   "source": [
    "g = Galleta(\"Salada\", \"Marron\", \"Cuadrada\")"
   ]
  },
  {
   "cell_type": "code",
   "execution_count": 24,
   "metadata": {},
   "outputs": [
    {
     "ename": "TypeError",
     "evalue": "__init__() missing 3 required positional arguments: 'sabor', 'color', and 'forma'",
     "output_type": "error",
     "traceback": [
      "\u001b[0;31m---------------------------------------------------------------------------\u001b[0m",
      "\u001b[0;31mTypeError\u001b[0m                                 Traceback (most recent call last)",
      "\u001b[0;32m<ipython-input-24-cd0e30542e3b>\u001b[0m in \u001b[0;36m<module>\u001b[0;34m()\u001b[0m\n\u001b[0;32m----> 1\u001b[0;31m \u001b[0mg\u001b[0m \u001b[0;34m=\u001b[0m \u001b[0mGalleta\u001b[0m\u001b[0;34m(\u001b[0m\u001b[0;34m)\u001b[0m \u001b[0;31m# Va a dar error por que no le enviamos paramtros\u001b[0m\u001b[0;34m\u001b[0m\u001b[0;34m\u001b[0m\u001b[0m\n\u001b[0m\u001b[1;32m      2\u001b[0m \u001b[0;31m# Pide 3 argumentos posicionales\u001b[0m\u001b[0;34m\u001b[0m\u001b[0;34m\u001b[0m\u001b[0;34m\u001b[0m\u001b[0m\n",
      "\u001b[0;31mTypeError\u001b[0m: __init__() missing 3 required positional arguments: 'sabor', 'color', and 'forma'"
     ]
    }
   ],
   "source": [
    "g = Galleta() # Va a dar error por que no le enviamos paramtros\n",
    "# Pide 3 argumentos posicionales"
   ]
  },
  {
   "cell_type": "code",
   "execution_count": 26,
   "metadata": {},
   "outputs": [],
   "source": [
    "class Galleta:\n",
    "    chocolate = False # Variables globales\n",
    "    forma = \"\"\n",
    "    \n",
    "    def __init__(self, sabor=None, color=None, forma=None): \n",
    "        # Se crean en el constructor con valores nulos para que acepte la funcion sin parametros\n",
    "        self.sabor = sabor # Parametros de la funcion init\n",
    "        self.color = color\n",
    "        self.forma = forma\n",
    "        print(\"Se acaba de crear una galleta con sabor {} y color {} con forma {} \".format(sabor,color, forma))\n",
    "        \n",
    "    def chocolatear(self):\n",
    "        self.chocolate =  True # Para hacer uso de la variable global le anteponemos el self\n",
    "        \n",
    "        \n",
    "    def tiene_chocolate(self):\n",
    "        if (self.chocolate):\n",
    "            print(\"Soy una galleta de chocolate :D\")\n",
    "        else:\n",
    "\n",
    "            print(\"No tengo chocolate :( \")"
   ]
  },
  {
   "cell_type": "code",
   "execution_count": 27,
   "metadata": {},
   "outputs": [
    {
     "name": "stdout",
     "output_type": "stream",
     "text": [
      "Se acaba de crear una galleta con sabor None y color None con forma None \n"
     ]
    }
   ],
   "source": [
    "g = Galleta()"
   ]
  },
  {
   "cell_type": "code",
   "execution_count": 30,
   "metadata": {},
   "outputs": [],
   "source": [
    "class Galleta:\n",
    "    chocolate = False # Variables globales\n",
    "    forma = \"\"\n",
    "    \n",
    "    def __init__(self, sabor=None, color=None, forma=None): \n",
    "        # Se crean en el constructor con valores nulos para que acepte la funcion sin parametros\n",
    "        self.sabor = sabor # Parametros de la funcion init\n",
    "        self.color = color\n",
    "        self.forma = forma\n",
    "        if sabor is None and color is None and forma is None:\n",
    "            print(\"La galleta tiene valores vacios\")\n",
    "        else:\n",
    "            print(\"Se acaba de crear una galleta con sabor {} y color {} con forma {} \".format(sabor,color, forma))\n",
    "        \n",
    "    def chocolatear(self):\n",
    "        self.chocolate =  True # Para hacer uso de la variable global le anteponemos el self\n",
    "        \n",
    "        \n",
    "    def tiene_chocolate(self):\n",
    "        if (self.chocolate):\n",
    "            print(\"Soy una galleta de chocolate :D\")\n",
    "        else:\n",
    "\n",
    "            print(\"No tengo chocolate :( \")"
   ]
  },
  {
   "cell_type": "code",
   "execution_count": 31,
   "metadata": {},
   "outputs": [
    {
     "name": "stdout",
     "output_type": "stream",
     "text": [
      "La galleta tiene valores vacios\n"
     ]
    }
   ],
   "source": [
    "g = Galleta()"
   ]
  },
  {
   "cell_type": "code",
   "execution_count": 32,
   "metadata": {},
   "outputs": [
    {
     "name": "stdout",
     "output_type": "stream",
     "text": [
      "Se acaba de crear una galleta con sabor Dulce y color Azul con forma Redonda \n"
     ]
    }
   ],
   "source": [
    "g = Galleta(\"Dulce\", \"Azul\", \"Redonda\")"
   ]
  },
  {
   "cell_type": "markdown",
   "metadata": {},
   "source": [
    "### Metodos Especiales"
   ]
  },
  {
   "cell_type": "code",
   "execution_count": 2,
   "metadata": {},
   "outputs": [
    {
     "name": "stdout",
     "output_type": "stream",
     "text": [
      "Se ha creado la pelicula El padrino\n"
     ]
    }
   ],
   "source": [
    "class Pelicula:\n",
    "    # Constructor de la clase\n",
    "    def __init__(self, titulo, duracion, lanzamiento):\n",
    "        self.titulo = titulo\n",
    "        self.duracion = duracion\n",
    "        self.lanzamiento = lanzamiento \n",
    "        \n",
    "        print(\"Se ha creado la pelicula\", self.titulo)\n",
    "        \n",
    "        \n",
    "pelicula1 = Pelicula(\"El padrino\", 175, 1972)              \n",
    "\n",
    "# Asi como existe un metodo constructor, existe un destructor, que se encarga de borrar una instancia"
   ]
  },
  {
   "cell_type": "code",
   "execution_count": 9,
   "metadata": {},
   "outputs": [
    {
     "name": "stdout",
     "output_type": "stream",
     "text": [
      "Se ha creado la pelicula El padrino\n"
     ]
    }
   ],
   "source": [
    "class Pelicula:\n",
    "    # Constructor de la clase\n",
    "    def __init__(self, titulo, duracion, lanzamiento):\n",
    "        self.titulo = titulo\n",
    "        self.duracion = duracion\n",
    "        self.lanzamiento = lanzamiento \n",
    "        \n",
    "        print(\"Se ha creado la pelicula\", self.titulo)\n",
    "        \n",
    "    # Metodo desctructor   \n",
    "    def __del__(self):\n",
    "        print(\"Se esta borrando la peliculo\", self.titulo)\n",
    "        \n",
    "        \n",
    "pelicula1 = Pelicula(\"El padrino\", 175, 1972)              \n"
   ]
  },
  {
   "cell_type": "code",
   "execution_count": 4,
   "metadata": {},
   "outputs": [
    {
     "name": "stdout",
     "output_type": "stream",
     "text": [
      "Se esta borrando la peliculo El padrino\n"
     ]
    }
   ],
   "source": [
    "del(pelicula1)"
   ]
  },
  {
   "cell_type": "markdown",
   "metadata": {},
   "source": [
    "#### Metodo String"
   ]
  },
  {
   "cell_type": "markdown",
   "metadata": {},
   "source": [
    "Permite convertir tipos de datos y objetos a string"
   ]
  },
  {
   "cell_type": "markdown",
   "metadata": {},
   "source": []
  },
  {
   "cell_type": "code",
   "execution_count": 7,
   "metadata": {},
   "outputs": [
    {
     "data": {
      "text/plain": [
       "'10'"
      ]
     },
     "execution_count": 7,
     "metadata": {},
     "output_type": "execute_result"
    }
   ],
   "source": [
    "str(10)"
   ]
  },
  {
   "cell_type": "code",
   "execution_count": 10,
   "metadata": {},
   "outputs": [
    {
     "data": {
      "text/plain": [
       "'<__main__.Pelicula object at 0x7f1d4c4d3a20>'"
      ]
     },
     "execution_count": 10,
     "metadata": {},
     "output_type": "execute_result"
    }
   ],
   "source": [
    "str(pelicula1)"
   ]
  },
  {
   "cell_type": "code",
   "execution_count": 11,
   "metadata": {},
   "outputs": [
    {
     "name": "stdout",
     "output_type": "stream",
     "text": [
      "Se ha creado la pelicula El padrino\n",
      "Se esta borrando la peliculo El padrino\n"
     ]
    }
   ],
   "source": [
    "class Pelicula:\n",
    "    # Constructor de la clase\n",
    "    def __init__(self, titulo, duracion, lanzamiento):\n",
    "        self.titulo = titulo\n",
    "        self.duracion = duracion\n",
    "        self.lanzamiento = lanzamiento \n",
    "        \n",
    "        print(\"Se ha creado la pelicula\", self.titulo)\n",
    "        \n",
    "    # Metodo desctructor   \n",
    "    def __del__(self):\n",
    "        print(\"Se esta borrando la peliculo\", self.titulo)\n",
    "        \n",
    "    # Redefinimos el metodo string    \n",
    "    def __str__(self):\n",
    "        return \"{} lanzada en {} con una duracion {} en minutos\".format(self.titulo, self.lanzamiento, self.duracion)\n",
    "        \n",
    "        \n",
    "        \n",
    "pelicula1 = Pelicula(\"El padrino\", 175, 1972)  "
   ]
  },
  {
   "cell_type": "code",
   "execution_count": 12,
   "metadata": {},
   "outputs": [
    {
     "data": {
      "text/plain": [
       "'El padrino lanzada en 1972 con una duracion 175 en minutos'"
      ]
     },
     "execution_count": 12,
     "metadata": {},
     "output_type": "execute_result"
    }
   ],
   "source": [
    "str(pelicula1)"
   ]
  },
  {
   "cell_type": "markdown",
   "metadata": {},
   "source": [
    "### Metodo len"
   ]
  },
  {
   "cell_type": "code",
   "execution_count": 13,
   "metadata": {},
   "outputs": [
    {
     "ename": "TypeError",
     "evalue": "object of type 'Pelicula' has no len()",
     "output_type": "error",
     "traceback": [
      "\u001b[0;31m---------------------------------------------------------------------------\u001b[0m",
      "\u001b[0;31mTypeError\u001b[0m                                 Traceback (most recent call last)",
      "\u001b[0;32m<ipython-input-13-f7a354d9cc27>\u001b[0m in \u001b[0;36m<module>\u001b[0;34m()\u001b[0m\n\u001b[0;32m----> 1\u001b[0;31m \u001b[0mlen\u001b[0m\u001b[0;34m(\u001b[0m\u001b[0mpelicula1\u001b[0m\u001b[0;34m)\u001b[0m\u001b[0;34m\u001b[0m\u001b[0;34m\u001b[0m\u001b[0m\n\u001b[0m",
      "\u001b[0;31mTypeError\u001b[0m: object of type 'Pelicula' has no len()"
     ]
    }
   ],
   "source": [
    "len(pelicula1) # error por que el metodo no esta implementado en la clase"
   ]
  },
  {
   "cell_type": "code",
   "execution_count": 14,
   "metadata": {},
   "outputs": [
    {
     "name": "stdout",
     "output_type": "stream",
     "text": [
      "Se ha creado la pelicula El padrino\n",
      "Se esta borrando la peliculo El padrino\n"
     ]
    }
   ],
   "source": [
    "class Pelicula:\n",
    "    # Constructor de la clase\n",
    "    def __init__(self, titulo, duracion, lanzamiento):\n",
    "        self.titulo = titulo\n",
    "        self.duracion = duracion\n",
    "        self.lanzamiento = lanzamiento \n",
    "        \n",
    "        print(\"Se ha creado la pelicula\", self.titulo)\n",
    "        \n",
    "    # Metodo desctructor   \n",
    "    def __del__(self):\n",
    "        print(\"Se esta borrando la peliculo\", self.titulo)\n",
    "        \n",
    "    # Redefinimos el metodo string    \n",
    "    def __str__(self):\n",
    "        return \"{} lanzada en {} con una duracion {} en minutos\".format(self.titulo, self.lanzamiento, self.duracion)\n",
    "    \n",
    "    # redefinimos el metodo len\n",
    "    def __len__(self):\n",
    "        return self.duracion\n",
    "        \n",
    "        \n",
    "pelicula1 = Pelicula(\"El padrino\", 175, 1972)  "
   ]
  },
  {
   "cell_type": "code",
   "execution_count": 15,
   "metadata": {},
   "outputs": [
    {
     "data": {
      "text/plain": [
       "175"
      ]
     },
     "execution_count": 15,
     "metadata": {},
     "output_type": "execute_result"
    }
   ],
   "source": [
    "len(pelicula1)"
   ]
  },
  {
   "cell_type": "markdown",
   "metadata": {},
   "source": [
    "## Objetos dentro de Objetos"
   ]
  },
  {
   "cell_type": "markdown",
   "metadata": {},
   "source": [
    "ejemplo: \n",
    "    la empresa que tenia clientes dentro de la empresa"
   ]
  },
  {
   "cell_type": "code",
   "execution_count": 74,
   "metadata": {},
   "outputs": [],
   "source": [
    "class Pelicula:\n",
    "    # Constructor de la clase\n",
    "    def __init__(self, identificador,  titulo, duracion, lanzamiento):\n",
    "        self.identificador = identificador\n",
    "        self.titulo = titulo\n",
    "        self.duracion = duracion\n",
    "        self.lanzamiento = lanzamiento \n",
    "        \n",
    "        print(\"Se ha creado la pelicula\", self.titulo)\n",
    "               \n",
    "    # Redefinimos el metodo string    \n",
    "    def __str__(self):\n",
    "        return \"id: {}    titulo: {} ({}) \".format(self.titulo, self.lanzamiento)\n",
    "        "
   ]
  },
  {
   "cell_type": "code",
   "execution_count": 75,
   "metadata": {},
   "outputs": [],
   "source": [
    "class Catalogo:\n",
    "    # Nuestra variable global\n",
    "    peliculas = [] # Creamos una lista para guardar las peliculas\n",
    "    \n",
    "    def __init__(self, peliculas=[]): # Pasamos una lista vacia\n",
    "        self.peliculas = peliculas\n",
    "    \n",
    "    def agregarPeliculas(self, p):\n",
    "        self.peliculas.append(p)\n",
    "    \n",
    "    def mostrarPeliculas(self):\n",
    "        for p in self.peliculas:\n",
    "            print(p)\n",
    "            \n",
    "    def eliminarPeliculas(self, identificador):\n",
    "        self.peliculas.remove(identificador)\n",
    "            \n",
    "    \n",
    "    \n",
    "    "
   ]
  },
  {
   "cell_type": "code",
   "execution_count": 76,
   "metadata": {},
   "outputs": [
    {
     "name": "stdout",
     "output_type": "stream",
     "text": [
      "Se ha creado la pelicula El padrino\n"
     ]
    }
   ],
   "source": [
    "pelicula1 = Pelicula(1, \"El padrino\", 175, 1972) \n",
    "catalogo = Catalogo([pelicula1])"
   ]
  },
  {
   "cell_type": "code",
   "execution_count": 77,
   "metadata": {},
   "outputs": [
    {
     "ename": "IndexError",
     "evalue": "tuple index out of range",
     "output_type": "error",
     "traceback": [
      "\u001b[0;31m---------------------------------------------------------------------------\u001b[0m",
      "\u001b[0;31mIndexError\u001b[0m                                Traceback (most recent call last)",
      "\u001b[0;32m<ipython-input-77-5820b0b13179>\u001b[0m in \u001b[0;36m<module>\u001b[0;34m()\u001b[0m\n\u001b[0;32m----> 1\u001b[0;31m \u001b[0mcatalogo\u001b[0m\u001b[0;34m.\u001b[0m\u001b[0mmostrarPeliculas\u001b[0m\u001b[0;34m(\u001b[0m\u001b[0;34m)\u001b[0m\u001b[0;34m\u001b[0m\u001b[0;34m\u001b[0m\u001b[0m\n\u001b[0m",
      "\u001b[0;32m<ipython-input-75-358c72627985>\u001b[0m in \u001b[0;36mmostrarPeliculas\u001b[0;34m(self)\u001b[0m\n\u001b[1;32m     11\u001b[0m     \u001b[0;32mdef\u001b[0m \u001b[0mmostrarPeliculas\u001b[0m\u001b[0;34m(\u001b[0m\u001b[0mself\u001b[0m\u001b[0;34m)\u001b[0m\u001b[0;34m:\u001b[0m\u001b[0;34m\u001b[0m\u001b[0;34m\u001b[0m\u001b[0m\n\u001b[1;32m     12\u001b[0m         \u001b[0;32mfor\u001b[0m \u001b[0mp\u001b[0m \u001b[0;32min\u001b[0m \u001b[0mself\u001b[0m\u001b[0;34m.\u001b[0m\u001b[0mpeliculas\u001b[0m\u001b[0;34m:\u001b[0m\u001b[0;34m\u001b[0m\u001b[0;34m\u001b[0m\u001b[0m\n\u001b[0;32m---> 13\u001b[0;31m             \u001b[0mprint\u001b[0m\u001b[0;34m(\u001b[0m\u001b[0mp\u001b[0m\u001b[0;34m)\u001b[0m\u001b[0;34m\u001b[0m\u001b[0;34m\u001b[0m\u001b[0m\n\u001b[0m\u001b[1;32m     14\u001b[0m \u001b[0;34m\u001b[0m\u001b[0m\n\u001b[1;32m     15\u001b[0m     \u001b[0;32mdef\u001b[0m \u001b[0meliminarPeliculas\u001b[0m\u001b[0;34m(\u001b[0m\u001b[0mself\u001b[0m\u001b[0;34m,\u001b[0m \u001b[0midentificador\u001b[0m\u001b[0;34m)\u001b[0m\u001b[0;34m:\u001b[0m\u001b[0;34m\u001b[0m\u001b[0;34m\u001b[0m\u001b[0m\n",
      "\u001b[0;32m<ipython-input-74-d03cbcf12885>\u001b[0m in \u001b[0;36m__str__\u001b[0;34m(self)\u001b[0m\n\u001b[1;32m     11\u001b[0m     \u001b[0;31m# Redefinimos el metodo string\u001b[0m\u001b[0;34m\u001b[0m\u001b[0;34m\u001b[0m\u001b[0;34m\u001b[0m\u001b[0m\n\u001b[1;32m     12\u001b[0m     \u001b[0;32mdef\u001b[0m \u001b[0m__str__\u001b[0m\u001b[0;34m(\u001b[0m\u001b[0mself\u001b[0m\u001b[0;34m)\u001b[0m\u001b[0;34m:\u001b[0m\u001b[0;34m\u001b[0m\u001b[0;34m\u001b[0m\u001b[0m\n\u001b[0;32m---> 13\u001b[0;31m         \u001b[0;32mreturn\u001b[0m \u001b[0;34m\"id: {}    titulo: {} ({}) \"\u001b[0m\u001b[0;34m.\u001b[0m\u001b[0mformat\u001b[0m\u001b[0;34m(\u001b[0m\u001b[0mself\u001b[0m\u001b[0;34m.\u001b[0m\u001b[0mtitulo\u001b[0m\u001b[0;34m,\u001b[0m \u001b[0mself\u001b[0m\u001b[0;34m.\u001b[0m\u001b[0mlanzamiento\u001b[0m\u001b[0;34m)\u001b[0m\u001b[0;34m\u001b[0m\u001b[0;34m\u001b[0m\u001b[0m\n\u001b[0m\u001b[1;32m     14\u001b[0m \u001b[0;34m\u001b[0m\u001b[0m\n",
      "\u001b[0;31mIndexError\u001b[0m: tuple index out of range"
     ]
    }
   ],
   "source": [
    "catalogo.mostrarPeliculas()"
   ]
  },
  {
   "cell_type": "code",
   "execution_count": 67,
   "metadata": {},
   "outputs": [
    {
     "name": "stdout",
     "output_type": "stream",
     "text": [
      "Se ha creado la pelicula Buscando a nemo\n"
     ]
    }
   ],
   "source": [
    "catalogo.agregarPeliculas(Pelicula(2, \"Buscando a nemo\", 156, 2003))"
   ]
  },
  {
   "cell_type": "code",
   "execution_count": 68,
   "metadata": {},
   "outputs": [
    {
     "name": "stdout",
     "output_type": "stream",
     "text": [
      "Se ha creado la pelicula Toy story 1\n"
     ]
    }
   ],
   "source": [
    "catalogo.agregarPeliculas(Pelicula(3, \"Toy story 1\", 176, 2001))"
   ]
  },
  {
   "cell_type": "code",
   "execution_count": 69,
   "metadata": {},
   "outputs": [
    {
     "name": "stdout",
     "output_type": "stream",
     "text": [
      "Se ha creado la pelicula Hitma agente 47\n"
     ]
    }
   ],
   "source": [
    "catalogo.agregarPeliculas(Pelicula(4, \"Hitma agente 47\", 145, 2005))"
   ]
  },
  {
   "cell_type": "code",
   "execution_count": 73,
   "metadata": {},
   "outputs": [
    {
     "name": "stdout",
     "output_type": "stream",
     "text": [
      "El padrino (1972) \n",
      "Buscando a nemo (2003) \n",
      "Toy story 1 (2001) \n",
      "Hitma agente 47 (2005) \n"
     ]
    }
   ],
   "source": [
    "catalogo.mostrarPeliculas()"
   ]
  },
  {
   "cell_type": "code",
   "execution_count": null,
   "metadata": {},
   "outputs": [],
   "source": []
  },
  {
   "cell_type": "markdown",
   "metadata": {},
   "source": [
    "### Encapsulacion de Atributos y Metodos"
   ]
  },
  {
   "cell_type": "markdown",
   "metadata": {},
   "source": [
    "La encapsulacion es una funcionalidad que tienen muchos lenguajes para impedir el acceso externo a atributos y metodos. \n",
    "\n",
    "en Python se simula ese comportamiento"
   ]
  },
  {
   "cell_type": "markdown",
   "metadata": {},
   "source": [
    "Ejemplo\n"
   ]
  },
  {
   "cell_type": "code",
   "execution_count": 80,
   "metadata": {},
   "outputs": [],
   "source": [
    "class Ejemplo:\n",
    "    __atributoPrivado = \"Soy un atributo inalcanzable desde fuera\"\n",
    "    \n",
    "    def __metodoPrivado(self):\n",
    "        print(\"Soy un metodo privado, inalcanzable desde afuera\")    \n",
    "    "
   ]
  },
  {
   "cell_type": "code",
   "execution_count": 81,
   "metadata": {},
   "outputs": [],
   "source": [
    "e = Ejemplo()"
   ]
  },
  {
   "cell_type": "code",
   "execution_count": 85,
   "metadata": {},
   "outputs": [
    {
     "ename": "AttributeError",
     "evalue": "'Ejemplo' object has no attribute '__atributoPrivado'",
     "output_type": "error",
     "traceback": [
      "\u001b[0;31m---------------------------------------------------------------------------\u001b[0m",
      "\u001b[0;31mAttributeError\u001b[0m                            Traceback (most recent call last)",
      "\u001b[0;32m<ipython-input-85-f25b01bf6d4b>\u001b[0m in \u001b[0;36m<module>\u001b[0;34m()\u001b[0m\n\u001b[0;32m----> 1\u001b[0;31m \u001b[0me\u001b[0m\u001b[0;34m.\u001b[0m\u001b[0m__atributoPrivado\u001b[0m \u001b[0;31m# nos muestra error\u001b[0m\u001b[0;34m\u001b[0m\u001b[0;34m\u001b[0m\u001b[0m\n\u001b[0m",
      "\u001b[0;31mAttributeError\u001b[0m: 'Ejemplo' object has no attribute '__atributoPrivado'"
     ]
    }
   ],
   "source": [
    "e.__atributoPrivado # nos muestra error"
   ]
  },
  {
   "cell_type": "code",
   "execution_count": 86,
   "metadata": {},
   "outputs": [
    {
     "ename": "AttributeError",
     "evalue": "'Ejemplo' object has no attribute '__metodoPrivado'",
     "output_type": "error",
     "traceback": [
      "\u001b[0;31m---------------------------------------------------------------------------\u001b[0m",
      "\u001b[0;31mAttributeError\u001b[0m                            Traceback (most recent call last)",
      "\u001b[0;32m<ipython-input-86-2b9680aa01ef>\u001b[0m in \u001b[0;36m<module>\u001b[0;34m()\u001b[0m\n\u001b[0;32m----> 1\u001b[0;31m \u001b[0me\u001b[0m\u001b[0;34m.\u001b[0m\u001b[0m__metodoPrivado\u001b[0m\u001b[0;34m(\u001b[0m\u001b[0;34m)\u001b[0m\u001b[0;34m\u001b[0m\u001b[0;34m\u001b[0m\u001b[0m\n\u001b[0m",
      "\u001b[0;31mAttributeError\u001b[0m: 'Ejemplo' object has no attribute '__metodoPrivado'"
     ]
    }
   ],
   "source": [
    "e.__metodoPrivado() # error por que no se pude acceder a el"
   ]
  },
  {
   "cell_type": "code",
   "execution_count": 92,
   "metadata": {},
   "outputs": [],
   "source": [
    "class Ejemplo:\n",
    "    __atributoPrivado = \"Soy un atributo inalcanzable desde fuera\"\n",
    "    \n",
    "    def __metodoPrivado(self):\n",
    "        print(\"Soy un metodo privado, inalcanzable desde afuera\")    \n",
    "    \n",
    "    def atributoPublico(self):\n",
    "        return self.__atributoPrivado\n",
    "    \n",
    "    def metodoPublico(self):\n",
    "        return self.__metodoPrivado()"
   ]
  },
  {
   "cell_type": "code",
   "execution_count": 93,
   "metadata": {},
   "outputs": [],
   "source": [
    "e = Ejemplo()"
   ]
  },
  {
   "cell_type": "code",
   "execution_count": 94,
   "metadata": {},
   "outputs": [
    {
     "data": {
      "text/plain": [
       "'Soy un atributo inalcanzable desde fuera'"
      ]
     },
     "execution_count": 94,
     "metadata": {},
     "output_type": "execute_result"
    }
   ],
   "source": [
    "e.atributoPublico()"
   ]
  },
  {
   "cell_type": "code",
   "execution_count": 95,
   "metadata": {},
   "outputs": [
    {
     "name": "stdout",
     "output_type": "stream",
     "text": [
      "Soy un metodo privado, inalcanzable desde afuera\n"
     ]
    }
   ],
   "source": [
    "e.metodoPublico()"
   ]
  },
  {
   "cell_type": "code",
   "execution_count": null,
   "metadata": {},
   "outputs": [],
   "source": []
  }
 ],
 "metadata": {
  "kernelspec": {
   "display_name": "Python 3",
   "language": "python",
   "name": "python3"
  },
  "language_info": {
   "codemirror_mode": {
    "name": "ipython",
    "version": 3
   },
   "file_extension": ".py",
   "mimetype": "text/x-python",
   "name": "python",
   "nbconvert_exporter": "python",
   "pygments_lexer": "ipython3",
   "version": "3.6.9"
  }
 },
 "nbformat": 4,
 "nbformat_minor": 4
}

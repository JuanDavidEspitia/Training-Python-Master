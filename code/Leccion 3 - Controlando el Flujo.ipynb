{
 "cells": [
  {
   "cell_type": "markdown",
   "metadata": {},
   "source": [
    "# El Flujo"
   ]
  },
  {
   "cell_type": "markdown",
   "metadata": {},
   "source": [
    "Se entiende asi a la sucesion de Instrucciones de un programa informatico"
   ]
  },
  {
   "cell_type": "markdown",
   "metadata": {},
   "source": [
    "Estas suseciones se ejecutan de forma ordenada e ineludible y suelen tener un objetivo final, de manipular informacion"
   ]
  },
  {
   "cell_type": "markdown",
   "metadata": {},
   "source": [
    "## Sentencias de control"
   ]
  },
  {
   "cell_type": "markdown",
   "metadata": {},
   "source": [
    "1. **Condicionales:** Para elegir entre distintas posiblidades\n",
    "2. **Iterativas:** Para repetir un bloque de instrucciones \n"
   ]
  },
  {
   "cell_type": "markdown",
   "metadata": {},
   "source": [
    "# Sentencia IF (Condicional)"
   ]
  },
  {
   "cell_type": "markdown",
   "metadata": {},
   "source": [
    "Permite dividir el flujo de un programa en diferentes caminos"
   ]
  },
  {
   "cell_type": "code",
   "execution_count": 3,
   "metadata": {},
   "outputs": [
    {
     "name": "stdout",
     "output_type": "stream",
     "text": [
      "Se cumple la condicion\n",
      "Tambien se muestra este print\n"
     ]
    }
   ],
   "source": [
    "if True:\n",
    "    print(\"Se cumple la condicion\")\n",
    "    print(\"Tambien se muestra este print\")"
   ]
  },
  {
   "cell_type": "markdown",
   "metadata": {},
   "source": [
    "En Pyhton despues de hacer uso de una sentencia de control, se llama **Bloque de Codigo**"
   ]
  },
  {
   "cell_type": "markdown",
   "metadata": {},
   "source": [
    "Todo Bloque de codigo debe estar **Indentado**, por que indica que esta dentro de un bloque de codigo"
   ]
  },
  {
   "cell_type": "code",
   "execution_count": 4,
   "metadata": {},
   "outputs": [],
   "source": [
    "# No entra al IF por que es false la condicion\n",
    "if False:\n",
    "    print(\"Se cumple la condicion\")\n",
    "    print(\"Tambien se muestra este print\")"
   ]
  },
  {
   "cell_type": "code",
   "execution_count": 5,
   "metadata": {},
   "outputs": [
    {
     "name": "stdout",
     "output_type": "stream",
     "text": [
      "Se cumple la condicion\n",
      "Tambien se muestra este print\n"
     ]
    }
   ],
   "source": [
    "# En este caso negacion el False\n",
    "if not False:\n",
    "    print(\"Se cumple la condicion\")\n",
    "    print(\"Tambien se muestra este print\")"
   ]
  },
  {
   "cell_type": "code",
   "execution_count": 6,
   "metadata": {},
   "outputs": [
    {
     "name": "stdout",
     "output_type": "stream",
     "text": [
      " A vale 5\n"
     ]
    }
   ],
   "source": [
    "a = 5\n",
    "if a == 2: # Este resultado es falso, por tanto no ejecuta su bloque de codigo\n",
    "    print(\" A vale 2\")\n",
    "if a == 5:\n",
    "    print(\" A vale 5\")"
   ]
  },
  {
   "cell_type": "code",
   "execution_count": 9,
   "metadata": {},
   "outputs": [
    {
     "name": "stdout",
     "output_type": "stream",
     "text": [
      "a vale:  5\n",
      "b vale:  10\n"
     ]
    }
   ],
   "source": [
    "a = 5 \n",
    "b = 10\n",
    "if a == 5:\n",
    "    print(\"a vale: \", a)\n",
    "    if b == 10:\n",
    "        print(\"b vale: \", b)"
   ]
  },
  {
   "cell_type": "code",
   "execution_count": 10,
   "metadata": {},
   "outputs": [
    {
     "name": "stdout",
     "output_type": "stream",
     "text": [
      "a vale 5 y b vale 10\n"
     ]
    }
   ],
   "source": [
    "if a == 5 and b == 10:\n",
    "    print(\"a vale 5 y b vale 10\")"
   ]
  },
  {
   "cell_type": "markdown",
   "metadata": {},
   "source": [
    "## Sentencia Else (Sino)"
   ]
  },
  {
   "cell_type": "markdown",
   "metadata": {},
   "source": [
    "Se encadena a un IF para indicar el caso contrario cuando no se cumople la condicion principal"
   ]
  },
  {
   "cell_type": "code",
   "execution_count": 12,
   "metadata": {},
   "outputs": [
    {
     "name": "stdout",
     "output_type": "stream",
     "text": [
      "es un numero impar\n"
     ]
    }
   ],
   "source": [
    "n = 7\n",
    "if n % 2 == 0:\n",
    "    print(\"es un numero par\")\n",
    "else:\n",
    "    print(\"es un numero impar\")"
   ]
  },
  {
   "cell_type": "markdown",
   "metadata": {},
   "source": [
    "## Sentencia Elif"
   ]
  },
  {
   "cell_type": "markdown",
   "metadata": {},
   "source": [
    "Se encadena a un IF para comprobar otra posible condicion, **siempre que la anterior no se cumpla**"
   ]
  },
  {
   "cell_type": "code",
   "execution_count": 19,
   "metadata": {},
   "outputs": [
    {
     "name": "stdout",
     "output_type": "stream",
     "text": [
      "Saliendo del sistema...\n"
     ]
    }
   ],
   "source": [
    "comando = \"SALIR\"\n",
    "if comando  == \"ENTRAR\":\n",
    "    print(\"Bienvenido al sistema\")\n",
    "elif comando == \"SALUDAR\":\n",
    "    print(\"Hola, espero estes pasando bien aprendiendo python\")\n",
    "elif comando == \"APAGAR\":\n",
    "    print(\"Se apagara por completo el equipo\")\n",
    "elif comando == \"SALIR\":\n",
    "    print(\"Saliendo del sistema...\")\n",
    "else:\n",
    "    print(\"No se reconoce el comando\")"
   ]
  },
  {
   "cell_type": "markdown",
   "metadata": {},
   "source": [
    "En esta sentencia de control, se comprueba los condicionales de arriba hacia abajo"
   ]
  },
  {
   "cell_type": "markdown",
   "metadata": {},
   "source": [
    "### Ejercicio de calificaciones"
   ]
  },
  {
   "cell_type": "code",
   "execution_count": 22,
   "metadata": {},
   "outputs": [
    {
     "name": "stdout",
     "output_type": "stream",
     "text": [
      "Introduce una nota: 10\n",
      "La nota es Excelente\n"
     ]
    }
   ],
   "source": [
    "nota = float(input(\"Introduce una nota: \")) # Pedimos un numero por consola\n",
    "if nota >= 9:\n",
    "    print(\"La nota es Excelente\")\n",
    "elif nota >= 7 and nota < 9:\n",
    "    print(\"La nota es Aceptable\")\n",
    "elif nota >= 5 and nota < 7:\n",
    "    print(\"La nota es Regular\")\n",
    "elif nota >= 2 and nota < 5:\n",
    "    print(\"La nota es Insuficiente\")\n",
    "else:\n",
    "    print(\"La nota es Deficiente\")"
   ]
  },
  {
   "cell_type": "code",
   "execution_count": 24,
   "metadata": {},
   "outputs": [
    {
     "name": "stdout",
     "output_type": "stream",
     "text": [
      "Introduce una nota: 11\n",
      "La nota es Excelente\n",
      "La nota es Aceptable\n",
      "La nota es Regular\n",
      "La nota es Insuficiente\n"
     ]
    }
   ],
   "source": [
    "# Con este bloque de codigo, cuando le ingresamos un numero este se evalua en todos los casos menores tambien\n",
    "# Debido a que se cumple las condiciones menore\n",
    "nota = float(input(\"Introduce una nota: \")) # Pedimos un numero por consola\n",
    "if nota >= 9:\n",
    "    print(\"La nota es Excelente\")\n",
    "if nota >= 7:\n",
    "    print(\"La nota es Aceptable\")\n",
    "if nota >= 5:\n",
    "    print(\"La nota es Regular\")\n",
    "if nota >= 2:\n",
    "    print(\"La nota es Insuficiente\")\n",
    "else:\n",
    "    print(\"La nota es Deficiente\")"
   ]
  },
  {
   "cell_type": "markdown",
   "metadata": {},
   "source": [
    "**La palabra Pass --> Nos permite definir un bloque Vacio**"
   ]
  },
  {
   "cell_type": "code",
   "execution_count": 25,
   "metadata": {},
   "outputs": [],
   "source": [
    "if True:\n",
    "    pass # Es util para crear esqueletos de bloques de codigo"
   ]
  },
  {
   "cell_type": "markdown",
   "metadata": {},
   "source": [
    "# Sentencia While (Ciclo)"
   ]
  },
  {
   "cell_type": "code",
   "execution_count": 27,
   "metadata": {},
   "outputs": [
    {
     "name": "stdout",
     "output_type": "stream",
     "text": [
      "1\n",
      "2\n",
      "3\n",
      "4\n",
      "5\n",
      "6\n",
      "7\n",
      "8\n",
      "9\n",
      "10\n"
     ]
    }
   ],
   "source": [
    "numeros = [1,2,3,4,5,6,7,8,9,10]\n",
    "indice = 0\n",
    "while(indice < len(numeros)):\n",
    "    print(numeros[indice]) # Nos muestra cada numero de la lista de Numeros, recorre cada posicion y muestra lo que hay dentro\n",
    "    indice += 1"
   ]
  },
  {
   "cell_type": "markdown",
   "metadata": {},
   "source": [
    "# Sentencia FOR (Ciclo)"
   ]
  },
  {
   "cell_type": "code",
   "execution_count": 29,
   "metadata": {},
   "outputs": [
    {
     "name": "stdout",
     "output_type": "stream",
     "text": [
      "1\n",
      "2\n",
      "3\n",
      "4\n",
      "5\n",
      "6\n",
      "7\n",
      "8\n",
      "9\n",
      "10\n"
     ]
    }
   ],
   "source": [
    "# La sentecia FOR indica\n",
    "# for indice in (in -> indica que recorre dentro de una estructura de datas) estructura:\n",
    "# eje:  for x in lista:\n",
    "# este valor X recorre en cada posicion de la lista y obtiene ese valor de la lista que esta en esa posicion\n",
    "\n",
    "for numero in numeros: # Para cada numero dentro de la lista de numeros\n",
    "    print(numero) # Imprime el numero dentro"
   ]
  },
  {
   "cell_type": "markdown",
   "metadata": {},
   "source": [
    "***Crea una variable y en cada iteracion guarda el valor de la lista mientras la va recorriendo***"
   ]
  },
  {
   "cell_type": "code",
   "execution_count": 30,
   "metadata": {},
   "outputs": [],
   "source": [
    "for numero in numeros:\n",
    "    numero *= 10"
   ]
  },
  {
   "cell_type": "code",
   "execution_count": 31,
   "metadata": {},
   "outputs": [
    {
     "data": {
      "text/plain": [
       "[1, 2, 3, 4, 5, 6, 7, 8, 9, 10]"
      ]
     },
     "execution_count": 31,
     "metadata": {},
     "output_type": "execute_result"
    }
   ],
   "source": [
    "numeros"
   ]
  },
  {
   "cell_type": "code",
   "execution_count": 33,
   "metadata": {},
   "outputs": [
    {
     "data": {
      "text/plain": [
       "[10, 20, 30, 40, 50, 60, 70, 80, 90, 100]"
      ]
     },
     "execution_count": 33,
     "metadata": {},
     "output_type": "execute_result"
    }
   ],
   "source": [
    "indice = 0\n",
    "numeros = [1,2,3,4,5,6,7,8,9,10]\n",
    "for numero in numeros: \n",
    "    numeros[indice] *= 10\n",
    "    indice += 1\n",
    "    \n",
    "numeros"
   ]
  },
  {
   "cell_type": "markdown",
   "metadata": {},
   "source": [
    "Lectura sequencial con clave y valor "
   ]
  },
  {
   "cell_type": "code",
   "execution_count": 34,
   "metadata": {},
   "outputs": [
    {
     "data": {
      "text/plain": [
       "[10, 20, 30, 40, 50, 60, 70, 80, 90, 100]"
      ]
     },
     "execution_count": 34,
     "metadata": {},
     "output_type": "execute_result"
    }
   ],
   "source": [
    "numeros = [1,2,3,4,5,6,7,8,9,10]\n",
    "for indice, numero in enumerate(numeros): # Enumerate nos devuelve un indice y lo guarda en la variable indice\n",
    "    numeros[indice] *= 10\n",
    "numeros"
   ]
  },
  {
   "cell_type": "code",
   "execution_count": null,
   "metadata": {},
   "outputs": [],
   "source": []
  }
 ],
 "metadata": {
  "kernelspec": {
   "display_name": "Python 3",
   "language": "python",
   "name": "python3"
  },
  "language_info": {
   "codemirror_mode": {
    "name": "ipython",
    "version": 3
   },
   "file_extension": ".py",
   "mimetype": "text/x-python",
   "name": "python",
   "nbconvert_exporter": "python",
   "pygments_lexer": "ipython3",
   "version": "3.6.9"
  }
 },
 "nbformat": 4,
 "nbformat_minor": 2
}

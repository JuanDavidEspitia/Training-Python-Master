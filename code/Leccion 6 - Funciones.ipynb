{
 "cells": [
  {
   "cell_type": "markdown",
   "metadata": {},
   "source": [
    "# Funciones"
   ]
  },
  {
   "cell_type": "markdown",
   "metadata": {},
   "source": [
    "Una función es un bloque de código con un nombre asociado, que recibe cero o más argumentos como entrada, sigue una secuencia de sentencias, la cuales ejecuta una operación deseada y devuelve un valor y/o realiza una tarea, este bloque puede ser llamados cuando se necesite.\n",
    "\n",
    "El uso de funciones es un componente muy importante del paradigma de la programación llamada estructurada, y tiene varias ventajas:\n",
    "\n",
    "- Modularización: permite segmentar un programa complejo en una serie de partes o módulos más simples, facilitando así la programación y el depurado.\n",
    "- Reutilización: permite reutilizar una misma función en distintos programas."
   ]
  },
  {
   "cell_type": "markdown",
   "metadata": {},
   "source": [
    "## Sentencia Def"
   ]
  },
  {
   "cell_type": "markdown",
   "metadata": {},
   "source": [
    "La sentencia def es una definición de función usada para crear objetos funciones definidas por el usuario.\n",
    "\n",
    "Una definición de función es una sentencia ejecutable. Su ejecución enlaza el nombre de la función en el namespace local actual a un objecto función (un envoltorio alrededor del código ejecutable para la función). Este objeto función contiene una referencia al namespace local global como el namespace global para ser usado cuando la función es llamada.\n",
    "\n",
    "La definición de función no ejecuta el cuerpo de la función; esto es ejecutado solamente cuando la función es llamada."
   ]
  },
  {
   "cell_type": "markdown",
   "metadata": {},
   "source": [
    "**Sintaxis:**"
   ]
  },
  {
   "cell_type": "raw",
   "metadata": {},
   "source": [
    "def NOMBRE(LISTA_DE_PARAMETROS):\n",
    "    \"\"\"DOCSTRING_DE_FUNCION\"\"\"\n",
    "    SENTENCIAS\n",
    "    RETURN [EXPRESION]"
   ]
  },
  {
   "cell_type": "markdown",
   "metadata": {},
   "source": [
    "**Ejemplo:**"
   ]
  },
  {
   "cell_type": "code",
   "execution_count": 1,
   "metadata": {},
   "outputs": [],
   "source": [
    "def sumar():\n",
    "    pass"
   ]
  },
  {
   "cell_type": "code",
   "execution_count": 3,
   "metadata": {},
   "outputs": [
    {
     "name": "stdout",
     "output_type": "stream",
     "text": [
      "15\n"
     ]
    }
   ],
   "source": [
    "def sumar():\n",
    "    print(5 + 10)\n",
    "\n",
    "sumar()"
   ]
  },
  {
   "cell_type": "code",
   "execution_count": 5,
   "metadata": {},
   "outputs": [
    {
     "name": "stdout",
     "output_type": "stream",
     "text": [
      "Hola Juan David, este print se llama desde la funcion saludar\n"
     ]
    }
   ],
   "source": [
    "def saludar():\n",
    "    print(\"Hola Juan David, este print se llama desde la funcion saludar\")\n",
    "\n",
    "# Llamamos la funcion de la siguiente forma\n",
    "saludar()"
   ]
  },
  {
   "cell_type": "code",
   "execution_count": 9,
   "metadata": {},
   "outputs": [
    {
     "name": "stdout",
     "output_type": "stream",
     "text": [
      "5 * 0 = 5\n",
      "5 * 1 = 6\n",
      "5 * 2 = 7\n",
      "5 * 3 = 8\n",
      "5 * 4 = 9\n",
      "5 * 5 = 10\n",
      "5 * 6 = 11\n",
      "5 * 7 = 12\n",
      "5 * 8 = 13\n",
      "5 * 9 = 14\n"
     ]
    }
   ],
   "source": [
    "def dibujarTbldel5():\n",
    "    for i in range(10):\n",
    "        print(\"5 * {} = {}\".format(i,i+5))\n",
    "          \n",
    "# Llamamos la funcion\n",
    "dibujarTbldel5()\n",
    "          "
   ]
  },
  {
   "cell_type": "markdown",
   "metadata": {},
   "source": [
    "## Argumentos y parámetros"
   ]
  },
  {
   "cell_type": "markdown",
   "metadata": {},
   "source": [
    "Al definir una función los valores los cuales se reciben se denominan parámetros, pero durante la llamada los valores que se envían se denominan argumentos."
   ]
  },
  {
   "cell_type": "markdown",
   "metadata": {},
   "source": [
    "**Ejemplos**"
   ]
  },
  {
   "cell_type": "code",
   "execution_count": 13,
   "metadata": {},
   "outputs": [
    {
     "name": "stdout",
     "output_type": "stream",
     "text": [
      "25\n"
     ]
    }
   ],
   "source": [
    "def sumar(number1, number2):\n",
    "    print (number1 + number2)\n",
    "\n",
    "sumar(10, 15) # 25"
   ]
  },
  {
   "cell_type": "code",
   "execution_count": 14,
   "metadata": {},
   "outputs": [
    {
     "name": "stdout",
     "output_type": "stream",
     "text": [
      "9\n"
     ]
    }
   ],
   "source": [
    "def sumar(numbers):\n",
    "    result = 0\n",
    "    for number in numbers:\n",
    "        result += number\n",
    "    print (result)\n",
    "\n",
    "sumar([4,5]) # 9"
   ]
  },
  {
   "cell_type": "markdown",
   "metadata": {},
   "source": [
    "## Retorno de Valores"
   ]
  },
  {
   "cell_type": "code",
   "execution_count": 2,
   "metadata": {},
   "outputs": [
    {
     "data": {
      "text/plain": [
       "'una cadena retornada'"
      ]
     },
     "execution_count": 2,
     "metadata": {},
     "output_type": "execute_result"
    }
   ],
   "source": [
    "def test():\n",
    "    return \"una cadena retornada\"\n",
    "    print(\"este print no se ejecuta\")\n",
    "test()"
   ]
  },
  {
   "cell_type": "code",
   "execution_count": 3,
   "metadata": {},
   "outputs": [
    {
     "name": "stdout",
     "output_type": "stream",
     "text": [
      "una cadena retornada\n"
     ]
    }
   ],
   "source": [
    "print(test())"
   ]
  },
  {
   "cell_type": "markdown",
   "metadata": {},
   "source": [
    "Podemos asignar a una variable el resultado de ejecutar una funcion"
   ]
  },
  {
   "cell_type": "code",
   "execution_count": 4,
   "metadata": {},
   "outputs": [
    {
     "name": "stdout",
     "output_type": "stream",
     "text": [
      "una cadena retornada\n"
     ]
    }
   ],
   "source": [
    "c = test()\n",
    "print(c)"
   ]
  },
  {
   "cell_type": "code",
   "execution_count": 5,
   "metadata": {},
   "outputs": [
    {
     "name": "stdout",
     "output_type": "stream",
     "text": [
      "[1, 2, 3, 4, 5]\n"
     ]
    }
   ],
   "source": [
    "def test2():\n",
    "    return [1,2,3,4,5]\n",
    "\n",
    "print(test2())"
   ]
  },
  {
   "cell_type": "code",
   "execution_count": 6,
   "metadata": {},
   "outputs": [
    {
     "name": "stdout",
     "output_type": "stream",
     "text": [
      "2\n",
      "[2, 3, 4]\n",
      "5\n"
     ]
    }
   ],
   "source": [
    "print(test2()[1])\n",
    "print(test2()[1:4])\n",
    "print(test2()[-1])"
   ]
  },
  {
   "cell_type": "markdown",
   "metadata": {},
   "source": [
    "**Ejemplo**"
   ]
  },
  {
   "cell_type": "code",
   "execution_count": 7,
   "metadata": {},
   "outputs": [
    {
     "name": "stdout",
     "output_type": "stream",
     "text": [
      "La media de 3 y 5 es: 4.0\n",
      "Programa terminado\n"
     ]
    }
   ],
   "source": [
    "def escribe_media():\n",
    "    media = (a + b) / 2\n",
    "    print(f\"La media de {a} y {b} es: {media}\")\n",
    "    return\n",
    "\n",
    "a = 3\n",
    "b = 5\n",
    "escribe_media()\n",
    "print(\"Programa terminado\")"
   ]
  },
  {
   "cell_type": "code",
   "execution_count": 8,
   "metadata": {},
   "outputs": [
    {
     "name": "stdout",
     "output_type": "stream",
     "text": [
      "Datos: 3 5 10 12\n",
      "Media: 7.5\n",
      "Desviación típica: 3.640054944640259\n",
      "Programa terminado\n"
     ]
    }
   ],
   "source": [
    "def calcula_media_desviacion(*args):\n",
    "    total = 0\n",
    "    for i in args:\n",
    "        total += i\n",
    "    media = total / len(args)\n",
    "    total = 0\n",
    "    for i in args:\n",
    "        total += (i - media) ** 2\n",
    "    desviacion = (total / len(args)) ** 0.5\n",
    "    return media, desviacion\n",
    "\n",
    "a, b, c, d = 3, 5, 10, 12\n",
    "media, desviacion_tipica = calcula_media_desviacion(a, b, c, d)\n",
    "print(f\"Datos: {a} {b} {c} {d}\")\n",
    "print(f\"Media: {media}\")\n",
    "print(f\"Desviación típica: {desviacion_tipica}\")\n",
    "print(\"Programa terminado\")"
   ]
  },
  {
   "cell_type": "markdown",
   "metadata": {},
   "source": [
    "## Enviando Valores"
   ]
  },
  {
   "cell_type": "code",
   "execution_count": 9,
   "metadata": {},
   "outputs": [
    {
     "data": {
      "text/plain": [
       "8"
      ]
     },
     "execution_count": 9,
     "metadata": {},
     "output_type": "execute_result"
    }
   ],
   "source": [
    "def suma(a, b):\n",
    "    return a + b\n",
    "\n",
    "suma(3,5)"
   ]
  },
  {
   "cell_type": "code",
   "execution_count": 11,
   "metadata": {},
   "outputs": [
    {
     "name": "stdout",
     "output_type": "stream",
     "text": [
      "25\n"
     ]
    }
   ],
   "source": [
    "resultado = suma(10,15)\n",
    "print(resultado)"
   ]
  },
  {
   "cell_type": "code",
   "execution_count": 12,
   "metadata": {},
   "outputs": [
    {
     "name": "stdout",
     "output_type": "stream",
     "text": [
      "n => 5\n",
      "c => Hola Plone\n",
      "l => [1, 2, 3, 4, 5]\n"
     ]
    }
   ],
   "source": [
    "def indeterminados_nombre(**kwargs):\n",
    "    for kwarg in kwargs:\n",
    "        print (kwarg, \"=>\", kwargs[kwarg])\n",
    "\n",
    "indeterminados_nombre(n=5, c=\"Hola Plone\", l=[1,2,3,4,5])"
   ]
  },
  {
   "cell_type": "code",
   "execution_count": 14,
   "metadata": {},
   "outputs": [
    {
     "name": "stdout",
     "output_type": "stream",
     "text": [
      "Buen día Juancho\n"
     ]
    }
   ],
   "source": [
    "def saludar(nombre, mensaje='Hola'): \n",
    "    print (mensaje, nombre)\n",
    "\n",
    "saludar(mensaje=\"Buen día\", nombre=\"Juancho\")"
   ]
  },
  {
   "cell_type": "code",
   "execution_count": 16,
   "metadata": {},
   "outputs": [
    {
     "name": "stdout",
     "output_type": "stream",
     "text": [
      "1350.0\n"
     ]
    }
   ],
   "source": [
    "def calcular(importe, descuento): \n",
    "    return importe - (importe * descuento / 100) \n",
    "\n",
    "datos = {\"descuento\": 10, \"importe\": 1500} \n",
    "print (calcular(**datos))"
   ]
  },
  {
   "cell_type": "markdown",
   "metadata": {},
   "source": [
    "## Argumentos por Valor y Referencia"
   ]
  },
  {
   "cell_type": "markdown",
   "metadata": {},
   "source": [
    "**Ejemplo**"
   ]
  },
  {
   "cell_type": "code",
   "execution_count": 18,
   "metadata": {},
   "outputs": [
    {
     "data": {
      "text/plain": [
       "10"
      ]
     },
     "execution_count": 18,
     "metadata": {},
     "output_type": "execute_result"
    }
   ],
   "source": [
    "# cuando se pasa la variable de un numero o una cadena se toma una referencia de esa variable\n",
    "def doblar_valor(numero):\n",
    "    numero = numero*2\n",
    "\n",
    "n = 10\n",
    "doblar_valor(n)\n",
    "n"
   ]
  },
  {
   "cell_type": "code",
   "execution_count": 21,
   "metadata": {},
   "outputs": [
    {
     "data": {
      "text/plain": [
       "[20, 100, 200]"
      ]
     },
     "execution_count": 21,
     "metadata": {},
     "output_type": "execute_result"
    }
   ],
   "source": [
    "# Cuando se pasa una lista, una tupla, un diccionario o un Df se pasa la variable original\n",
    "def doblar_valor(numeros):\n",
    "    for i, n in enumerate(numeros):\n",
    "        numeros[i] *= 2\n",
    "ns = [10, 50, 100]\n",
    "doblar_valor(ns)\n",
    "ns"
   ]
  },
  {
   "cell_type": "code",
   "execution_count": 23,
   "metadata": {},
   "outputs": [
    {
     "data": {
      "text/plain": [
       "20"
      ]
     },
     "execution_count": 23,
     "metadata": {},
     "output_type": "execute_result"
    }
   ],
   "source": [
    "def doblar_valor(numero):\n",
    "    return numero*2\n",
    "\n",
    "n = 10\n",
    "n = doblar_valor(n)\n",
    "n"
   ]
  },
  {
   "cell_type": "markdown",
   "metadata": {},
   "source": [
    "## Argumentos Indeterminados"
   ]
  },
  {
   "cell_type": "code",
   "execution_count": 24,
   "metadata": {},
   "outputs": [
    {
     "name": "stdout",
     "output_type": "stream",
     "text": [
      "(5, 'Hola', [1, 2, 3, 4, 5])\n"
     ]
    }
   ],
   "source": [
    "# \n",
    "def indeterminados_posicion(*args):\n",
    "    print(args)\n",
    "\n",
    "indeterminados_posicion(5, \"Hola\", [1,2,3,4,5])\n",
    "\n"
   ]
  },
  {
   "cell_type": "code",
   "execution_count": 27,
   "metadata": {},
   "outputs": [
    {
     "name": "stdout",
     "output_type": "stream",
     "text": [
      "5\n",
      "Hola\n",
      "[1, 2, 3, 4, 5]\n"
     ]
    }
   ],
   "source": [
    "\n",
    "def indeterminados_posicion(*args):\n",
    "    for arg in args:\n",
    "        print(arg)\n",
    "    \n",
    "indeterminados_posicion(5, \"Hola\", [1,2,3,4,5])\n"
   ]
  },
  {
   "cell_type": "code",
   "execution_count": 28,
   "metadata": {},
   "outputs": [
    {
     "name": "stdout",
     "output_type": "stream",
     "text": [
      "{'n': 5, 'c': 'Hola', 'l': [1, 2, 3, 4, 5]}\n"
     ]
    }
   ],
   "source": [
    "\n",
    "def indeterminados_nombre(**kwargs):\n",
    "    print(kwargs)\n",
    "    \n",
    "\n",
    "indeterminados_nombre(n=5, c=\"Hola\", l=[1,2,3,4,5])"
   ]
  },
  {
   "cell_type": "code",
   "execution_count": 30,
   "metadata": {},
   "outputs": [
    {
     "name": "stdout",
     "output_type": "stream",
     "text": [
      "n\n",
      "c\n",
      "l\n"
     ]
    }
   ],
   "source": [
    "\n",
    "def indeterminados_nombre(**kwargs):\n",
    "    for kwarg in kwargs:\n",
    "        print(kwarg)\n",
    "    \n",
    "\n",
    "indeterminados_nombre(n=5, c=\"Hola\", l=[1,2,3,4,5])"
   ]
  },
  {
   "cell_type": "code",
   "execution_count": null,
   "metadata": {},
   "outputs": [],
   "source": []
  }
 ],
 "metadata": {
  "kernelspec": {
   "display_name": "Python 3",
   "language": "python",
   "name": "python3"
  },
  "language_info": {
   "codemirror_mode": {
    "name": "ipython",
    "version": 3
   },
   "file_extension": ".py",
   "mimetype": "text/x-python",
   "name": "python",
   "nbconvert_exporter": "python",
   "pygments_lexer": "ipython3",
   "version": "3.7.6"
  }
 },
 "nbformat": 4,
 "nbformat_minor": 4
}

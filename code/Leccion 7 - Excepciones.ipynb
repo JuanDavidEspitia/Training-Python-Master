{
 "cells": [
  {
   "cell_type": "markdown",
   "metadata": {},
   "source": [
    "**\"A programar se aprende progrmando y cometer errores es la prueba de que estas avanzando\"**"
   ]
  },
  {
   "cell_type": "markdown",
   "metadata": {},
   "source": [
    "Reconocer cuales son errores y cuales son excepciones\n",
    "- La identificacion de errores\n",
    "- Su gestion con excepciones"
   ]
  },
  {
   "cell_type": "markdown",
   "metadata": {},
   "source": [
    "## Excepcion "
   ]
  },
  {
   "cell_type": "markdown",
   "metadata": {},
   "source": [
    "Una excepcion es un bloque de codigo excepcional que nos permite continuar con la ejecucion del codigo cuando ocurra un error"
   ]
  },
  {
   "cell_type": "markdown",
   "metadata": {},
   "source": [
    "Ejemplo"
   ]
  },
  {
   "cell_type": "code",
   "execution_count": 1,
   "metadata": {},
   "outputs": [
    {
     "name": "stdout",
     "output_type": "stream",
     "text": [
      "Introduce un numero: 10\n",
      "10.0/4=2.5\n"
     ]
    }
   ],
   "source": [
    "n = float(input(\"Introduce un numero: \"))\n",
    "m = 4\n",
    "print(\"{}/{}={}\".format(n, m, n/m))"
   ]
  },
  {
   "cell_type": "code",
   "execution_count": 2,
   "metadata": {},
   "outputs": [
    {
     "name": "stdout",
     "output_type": "stream",
     "text": [
      "Introduce un numero: jajajaj\n"
     ]
    },
    {
     "ename": "ValueError",
     "evalue": "could not convert string to float: 'jajajaj'",
     "output_type": "error",
     "traceback": [
      "\u001b[1;31m---------------------------------------------------------------------------\u001b[0m",
      "\u001b[1;31mValueError\u001b[0m                                Traceback (most recent call last)",
      "\u001b[1;32m<ipython-input-2-f4fddfc0aad3>\u001b[0m in \u001b[0;36m<module>\u001b[1;34m\u001b[0m\n\u001b[1;32m----> 1\u001b[1;33m \u001b[0mn\u001b[0m \u001b[1;33m=\u001b[0m \u001b[0mfloat\u001b[0m\u001b[1;33m(\u001b[0m\u001b[0minput\u001b[0m\u001b[1;33m(\u001b[0m\u001b[1;34m\"Introduce un numero: \"\u001b[0m\u001b[1;33m)\u001b[0m\u001b[1;33m)\u001b[0m\u001b[1;33m\u001b[0m\u001b[1;33m\u001b[0m\u001b[0m\n\u001b[0m\u001b[0;32m      2\u001b[0m \u001b[0mm\u001b[0m \u001b[1;33m=\u001b[0m \u001b[1;36m4\u001b[0m\u001b[1;33m\u001b[0m\u001b[1;33m\u001b[0m\u001b[0m\n\u001b[0;32m      3\u001b[0m \u001b[0mprint\u001b[0m\u001b[1;33m(\u001b[0m\u001b[1;34m\"{}/{}={}\"\u001b[0m\u001b[1;33m.\u001b[0m\u001b[0mformat\u001b[0m\u001b[1;33m(\u001b[0m\u001b[0mn\u001b[0m\u001b[1;33m,\u001b[0m \u001b[0mm\u001b[0m\u001b[1;33m,\u001b[0m \u001b[0mn\u001b[0m\u001b[1;33m/\u001b[0m\u001b[0mm\u001b[0m\u001b[1;33m)\u001b[0m\u001b[1;33m)\u001b[0m\u001b[1;33m\u001b[0m\u001b[1;33m\u001b[0m\u001b[0m\n",
      "\u001b[1;31mValueError\u001b[0m: could not convert string to float: 'jajajaj'"
     ]
    }
   ],
   "source": [
    "n = float(input(\"Introduce un numero: \"))\n",
    "m = 4\n",
    "print(\"{}/{}={}\".format(n, m, n/m))\n"
   ]
  },
  {
   "cell_type": "code",
   "execution_count": 3,
   "metadata": {},
   "outputs": [
    {
     "name": "stdout",
     "output_type": "stream",
     "text": [
      "Introduce un numero: jajaja\n",
      "Ha ocurrido un error inesperado, verifica que estes ingresando bien el numero\n"
     ]
    }
   ],
   "source": [
    "try: \n",
    "    n = float(input(\"Introduce un numero: \"))\n",
    "    m = 4\n",
    "    print(\"{}/{} = {}\".format(n, m, n/m))\n",
    "except:\n",
    "    print(\"Ha ocurrido un error inesperado, verifica que estes ingresando bien el numero\")\n",
    "        "
   ]
  },
  {
   "cell_type": "code",
   "execution_count": 4,
   "metadata": {},
   "outputs": [
    {
     "name": "stdout",
     "output_type": "stream",
     "text": [
      "Introduce un numero: jajaj\n",
      "Ha ocurrido un error inesperado, verifica que estes ingresando bien el numero\n",
      "Introduce un numero: pepe\n",
      "Ha ocurrido un error inesperado, verifica que estes ingresando bien el numero\n",
      "Introduce un numero: no es numero\n",
      "Ha ocurrido un error inesperado, verifica que estes ingresando bien el numero\n",
      "Introduce un numero: se rompe el ciclo\n",
      "Ha ocurrido un error inesperado, verifica que estes ingresando bien el numero\n",
      "Introduce un numero: hasta \n",
      "Ha ocurrido un error inesperado, verifica que estes ingresando bien el numero\n",
      "Introduce un numero: que sea\n",
      "Ha ocurrido un error inesperado, verifica que estes ingresando bien el numero\n",
      "Introduce un numero: verdadero\n",
      "Ha ocurrido un error inesperado, verifica que estes ingresando bien el numero\n",
      "Introduce un numero: 15\n",
      "15.0/4=3.75\n"
     ]
    }
   ],
   "source": [
    "while(True):\n",
    "    try: \n",
    "        n = float(input(\"Introduce un numero: \"))\n",
    "        m = 4\n",
    "        print(\"{}/{} = {}\".format(n, m, n/m))\n",
    "        break # Importante romper el ciclo\n",
    "    except:\n",
    "        print(\"Ha ocurrido un error inesperado, verifica que estes ingresando bien el numero\")"
   ]
  },
  {
   "cell_type": "code",
   "execution_count": 5,
   "metadata": {},
   "outputs": [
    {
     "name": "stdout",
     "output_type": "stream",
     "text": [
      "Introduce un numero: hola\n",
      "Ha ocurrido un error inesperado, verifica que estes ingresando bien el numero\n",
      "Introduce un numero: como\n",
      "Ha ocurrido un error inesperado, verifica que estes ingresando bien el numero\n",
      "Introduce un numero: estas\n",
      "Ha ocurrido un error inesperado, verifica que estes ingresando bien el numero\n",
      "Introduce un numero: 100\n",
      "100.0/4 = 25.0\n",
      "Este se ejecuta siempre que no ocurra una exepcion\n"
     ]
    }
   ],
   "source": [
    "while(True):\n",
    "    try: \n",
    "        n = float(input(\"Introduce un numero: \"))\n",
    "        m = 4\n",
    "        print(\"{}/{} = {}\".format(n, m, n/m))\n",
    "    except:\n",
    "        print(\"Ha ocurrido un error inesperado, verifica que estes ingresando bien el numero\")\n",
    "    else:\n",
    "        print(\"Este se ejecuta siempre que NO ocurra una exepcion -> Todo ha funcionado correctamente\")\n",
    "        break # Importante romper el ciclo --> Cambiamos la posicion del break"
   ]
  },
  {
   "cell_type": "code",
   "execution_count": 6,
   "metadata": {},
   "outputs": [
    {
     "name": "stdout",
     "output_type": "stream",
     "text": [
      "Introduce un numero: jaja\n",
      "Ha ocurrido un error inesperado, verifica que estes ingresando bien el numero\n",
      "Fin de la iteracion\n",
      "Introduce un numero: pepe\n",
      "Ha ocurrido un error inesperado, verifica que estes ingresando bien el numero\n",
      "Fin de la iteracion\n",
      "Introduce un numero: 55\n",
      "55.0/4 = 13.75\n",
      "Este se ejecuta siempre que NO ocurra una exepcion -> Todo ha funcionado correctamente\n",
      "Fin de la iteracion\n"
     ]
    }
   ],
   "source": [
    "while(True):\n",
    "    try: \n",
    "        n = float(input(\"Introduce un numero: \"))\n",
    "        m = 4\n",
    "        print(\"{}/{} = {}\".format(n, m, n/m))\n",
    "    except:\n",
    "        print(\"Ha ocurrido un error inesperado, verifica que estes ingresando bien el numero\")\n",
    "    else:\n",
    "        print(\"Este se ejecuta siempre que NO ocurra una exepcion -> Todo ha funcionado correctamente\")\n",
    "        break # Importante romper el ciclo --> Cambiamos la posicion del break\n",
    "    finally:\n",
    "        print(\"Fin de la iteracion\")"
   ]
  },
  {
   "cell_type": "code",
   "execution_count": null,
   "metadata": {},
   "outputs": [],
   "source": []
  }
 ],
 "metadata": {
  "kernelspec": {
   "display_name": "Python 3",
   "language": "python",
   "name": "python3"
  },
  "language_info": {
   "codemirror_mode": {
    "name": "ipython",
    "version": 3
   },
   "file_extension": ".py",
   "mimetype": "text/x-python",
   "name": "python",
   "nbconvert_exporter": "python",
   "pygments_lexer": "ipython3",
   "version": "3.7.6"
  }
 },
 "nbformat": 4,
 "nbformat_minor": 4
}

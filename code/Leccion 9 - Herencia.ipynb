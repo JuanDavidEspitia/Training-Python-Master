{
 "cells": [
  {
   "cell_type": "markdown",
   "metadata": {},
   "source": [
    "# Herencia"
   ]
  },
  {
   "cell_type": "markdown",
   "metadata": {},
   "source": [
    "La herencia es la capacidad que tiene una clase de heredar los atributos y metodos de otra y ademas de agregarle los propios metodos de la clase. o modificar los metodos "
   ]
  },
  {
   "cell_type": "markdown",
   "metadata": {},
   "source": [
    "1. Implementar la herencia\n",
    "2. Atributos y metodos heredados\n",
    "3. Que es polimorfismo\n",
    "4. Herencia multiple"
   ]
  },
  {
   "cell_type": "markdown",
   "metadata": {},
   "source": [
    "Ejemplo de tienda:\n",
    "\n",
    "En la tienda se vendia tres tipos de productos:\n",
    "1. Adornos\n",
    "2. Alimentos\n",
    "3. Libros\n",
    "\n",
    "Todos compartian el hecho de tener una referencia, un nombre, un precio y una descripcion.\n",
    "\n",
    "Pero los alimentos tenian atributos de Productor y Distribuidor\n",
    "\n",
    "Los libros tenian adicionalmente atrbutos de ISBN y Autor.\n",
    "\n",
    "\n",
    "\n",
    "\n",
    "\n",
    "    "
   ]
  },
  {
   "cell_type": "code",
   "execution_count": 1,
   "metadata": {},
   "outputs": [],
   "source": [
    "class Producto:\n",
    "    def __init__(self, referencia, tipo, nombre, precio, descripcion, productor=None, distribuidor=None, isbn=None, autor=None):\n",
    "        self.referencia = referencia\n",
    "        self.tipo =  tipo\n",
    "        self.nombre = nombre\n",
    "        self.precio = precio\n",
    "        self.descripcion = descripcion\n",
    "        self.productor = productor\n",
    "        self.distribuidor = distribuidor\n",
    "        self.isbs = isbn\n",
    "        self.autor = autor\n",
    "        \n",
    "        \n",
    "adorno = Producto('000A', \"ADORNO\", \"Vaso Adorno\", 15, \"Vaso de porcelana con dibujos\")  \n",
    "      \n",
    "        "
   ]
  },
  {
   "cell_type": "code",
   "execution_count": 2,
   "metadata": {},
   "outputs": [
    {
     "data": {
      "text/plain": [
       "<__main__.Producto at 0x7f22ac3af7b8>"
      ]
     },
     "execution_count": 2,
     "metadata": {},
     "output_type": "execute_result"
    }
   ],
   "source": [
    "adorno"
   ]
  },
  {
   "cell_type": "code",
   "execution_count": 3,
   "metadata": {},
   "outputs": [
    {
     "data": {
      "text/plain": [
       "'ADORNO'"
      ]
     },
     "execution_count": 3,
     "metadata": {},
     "output_type": "execute_result"
    }
   ],
   "source": [
    "adorno.tipo"
   ]
  },
  {
   "cell_type": "code",
   "execution_count": 4,
   "metadata": {},
   "outputs": [
    {
     "data": {
      "text/plain": [
       "'000A'"
      ]
     },
     "execution_count": 4,
     "metadata": {},
     "output_type": "execute_result"
    }
   ],
   "source": [
    "adorno.referencia"
   ]
  },
  {
   "cell_type": "markdown",
   "metadata": {},
   "source": [
    "#### Debemos siempre identificar las Super clases y las subclases siempre en singular"
   ]
  },
  {
   "cell_type": "markdown",
   "metadata": {},
   "source": [
    "La superclase agrupa lo que es comun en las subclases\n",
    "\n",
    "En este caso la super clase es Producto.\n",
    "\n",
    "Las subclases seria Adorno, Alimento y Libro y cada uno tambien posee sus atributos y metodos.\n"
   ]
  },
  {
   "cell_type": "code",
   "execution_count": 19,
   "metadata": {},
   "outputs": [
    {
     "name": "stdout",
     "output_type": "stream",
     "text": [
      "        Referencia: \t000A\n",
      "        Nombre: \tVaso Adorno\n",
      "        Precio: \t15\n",
      "        Descripcion: \tVaso de porcelana con Paisajes\n"
     ]
    }
   ],
   "source": [
    "# Super Clase Producto\n",
    "\n",
    "class Producto:\n",
    "    def __init__(self, referencia, tipo, nombre, precio, descripcion):\n",
    "        self.referencia = referencia\n",
    "        self.tipo =  tipo\n",
    "        self.nombre = nombre\n",
    "        self.precio = precio\n",
    "        self.descripcion = descripcion\n",
    "\n",
    "    def __str__(self):\n",
    "        return \"\"\"\\\n",
    "        Referencia: \\t{}\n",
    "        Nombre: \\t{}\n",
    "        Precio: \\t{}\n",
    "        Descripcion: \\t{}\"\"\".format(self.referencia, self.nombre, self.precio, self.descripcion)\n",
    "\n",
    "\n",
    "# Creamos la clase hija Adorno, que hereda de Producto\n",
    "class Adorno(Producto):\n",
    "        pass\n",
    "    \n",
    "    \n",
    "    \n",
    "a = Adorno('000A', \"ADORNO\", \"Vaso Adorno\", 15, \"Vaso de porcelana con Paisajes\")\n",
    "print(a)"
   ]
  },
  {
   "cell_type": "code",
   "execution_count": 7,
   "metadata": {},
   "outputs": [],
   "source": [
    "# Creamos la subclase Alimento que herede de producto"
   ]
  },
  {
   "cell_type": "code",
   "execution_count": 25,
   "metadata": {},
   "outputs": [
    {
     "name": "stdout",
     "output_type": "stream",
     "text": [
      "        Referencia: \t000D\n",
      "        Nombre: \tTOMATE\n",
      "        Precio: \t5\n",
      "        Descripcion: \tTOMATE CHONTO\n",
      "        Productor: \tFrutales\n",
      "        Distribuidor: \tDistri S.A.S\n"
     ]
    }
   ],
   "source": [
    "class Alimento(Producto):\n",
    "    productor = \"\"\n",
    "    distribuidor = \"\"\n",
    "    \n",
    "    def __str__(self):\n",
    "        return \"\"\"\\\n",
    "        Referencia: \\t{}\n",
    "        Nombre: \\t{}\n",
    "        Precio: \\t{}\n",
    "        Descripcion: \\t{}\n",
    "        Productor: \\t{}\n",
    "        Distribuidor: \\t{}\"\"\".format(self.referencia, self.nombre, self.precio, self.descripcion, self.productor,self.distribuidor)\n",
    "        \n",
    "    \n",
    "alimento = Alimento('000D', \"ALIMENTO\", \"TOMATE\",5,\"TOMATE CHONTO\")   \n",
    "alimento.productor = \"Frutales\"\n",
    "alimento.distribuidor = \"Distri S.A.S\"\n",
    "\n",
    "print(alimento)\n",
    "    "
   ]
  },
  {
   "cell_type": "code",
   "execution_count": 29,
   "metadata": {},
   "outputs": [
    {
     "name": "stdout",
     "output_type": "stream",
     "text": [
      "        Referencia: \t000E\n",
      "        Nombre: \tLibro de Python Basico\n",
      "        Precio: \t17\n",
      "        Descripcion: \tLibro de Python Basico sentencias y conceptos\n",
      "        ISBN: \t\t8789HB\n",
      "        Autor: \t\tJuan David Espitia\n"
     ]
    }
   ],
   "source": [
    "# SubClase Libro\n",
    "class Libro(Producto):\n",
    "    isbn = \"\"\n",
    "    autor = \"\"\n",
    "    \n",
    "    def __str__(self):\n",
    "        return \"\"\"\\\n",
    "        Referencia: \\t{}\n",
    "        Nombre: \\t{}\n",
    "        Precio: \\t{}\n",
    "        Descripcion: \\t{}\n",
    "        ISBN: \\t\\t{}\n",
    "        Autor: \\t\\t{}\"\"\".format(self.referencia, self.nombre, self.precio, self.descripcion, self.isbn,self.autor)\n",
    "        \n",
    "libro = Libro('000E', \"Libro\", \"Libro de Python Basico\",17,\"Libro de Python Basico sentencias y conceptos\")\n",
    "libro.isbn = \"8789HB\"\n",
    "libro.autor = \"Juan David Espitia\"\n",
    "print(libro)"
   ]
  },
  {
   "cell_type": "markdown",
   "metadata": {},
   "source": [
    "### Ejemplo # 2"
   ]
  },
  {
   "cell_type": "code",
   "execution_count": 60,
   "metadata": {},
   "outputs": [],
   "source": [
    "class Persona(object):\n",
    "    \"Clase que representa una persona.\"\n",
    "    def __init__(self, identificacion, nombre, apellido):\n",
    "        \"Constructor de Persona\"\n",
    "        self.identificacion = identificacion\n",
    "        self.nombre = nombre\n",
    "        self.apellido = apellido\n",
    "\n",
    "        def __str__(self):\n",
    "            return \"Identificacion {}, Apellido: {}, Nombre: {}\".format(self.identificacion, self.apellido, self.nombre)"
   ]
  },
  {
   "cell_type": "code",
   "execution_count": 61,
   "metadata": {},
   "outputs": [],
   "source": [
    "class AlumnoFIUBA(Persona):\n",
    "    \"Clase que representa a un alumno de FIUBA.\"\n",
    "    def __init__(self, identificacion, nombre, apellido, padron):\n",
    "        \"Constructor de AlumnoFIUBA\"\n",
    "        # llamamos al constructor de Persona\n",
    "        Persona.__init__(self, identificacion, nombre, apellido)\n",
    "        # agregamos el nuevo atributo\n",
    "        self.padron = padron"
   ]
  },
  {
   "cell_type": "code",
   "execution_count": 64,
   "metadata": {},
   "outputs": [
    {
     "name": "stdout",
     "output_type": "stream",
     "text": [
      "<__main__.AlumnoFIUBA object at 0x7f22ac2e9668>\n"
     ]
    }
   ],
   "source": [
    "a = AlumnoFIUBA(\"DNI 35123456\", \"Damien\", \"Thorn\", \"98765\")\n",
    "print(a)"
   ]
  },
  {
   "cell_type": "code",
   "execution_count": null,
   "metadata": {},
   "outputs": [],
   "source": []
  },
  {
   "cell_type": "code",
   "execution_count": null,
   "metadata": {},
   "outputs": [],
   "source": []
  }
 ],
 "metadata": {
  "kernelspec": {
   "display_name": "Python 3",
   "language": "python",
   "name": "python3"
  },
  "language_info": {
   "codemirror_mode": {
    "name": "ipython",
    "version": 3
   },
   "file_extension": ".py",
   "mimetype": "text/x-python",
   "name": "python",
   "nbconvert_exporter": "python",
   "pygments_lexer": "ipython3",
   "version": "3.6.9"
  }
 },
 "nbformat": 4,
 "nbformat_minor": 2
}

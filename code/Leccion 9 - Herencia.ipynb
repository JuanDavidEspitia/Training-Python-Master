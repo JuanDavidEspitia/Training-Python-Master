{
 "cells": [
  {
   "cell_type": "markdown",
   "metadata": {},
   "source": [
    "# Herencia"
   ]
  },
  {
   "cell_type": "markdown",
   "metadata": {},
   "source": [
    "La herencia es la capacidad que tiene una clase de heredar los atributos y metodos de otra y ademas de agregarle los propios metodos de la clase. o modificar los metodos "
   ]
  },
  {
   "cell_type": "markdown",
   "metadata": {},
   "source": [
    "1. Implementar la herencia\n",
    "2. Atributos y metodos heredados\n",
    "3. Que es polimorfismo\n",
    "4. Herencia multiple"
   ]
  },
  {
   "cell_type": "markdown",
   "metadata": {},
   "source": [
    "Ejemplo de tienda:\n",
    "\n",
    "En la tienda se vendia tres tipos de productos:\n",
    "1. Adornos\n",
    "2. Alimentos\n",
    "3. Libros\n",
    "\n",
    "Todos compartian el hecho de tener una referencia, un nombre, un precio y una descripcion.\n",
    "\n",
    "Pero los alimentos tenian atributos de Productor y Distribuidor\n",
    "\n",
    "Los libros tenian adicionalmente atrbutos de ISBN y Autor.\n",
    "\n",
    "\n",
    "\n",
    "\n",
    "\n",
    "    "
   ]
  },
  {
   "cell_type": "code",
   "execution_count": 1,
   "metadata": {},
   "outputs": [],
   "source": [
    "class Producto:\n",
    "    def __init__(self, referencia, tipo, nombre, precio, descripcion, productor=None, distribuidor=None, isbn=None, autor=None):\n",
    "        self.referencia = referencia\n",
    "        self.tipo =  tipo\n",
    "        self.nombre = nombre\n",
    "        self.precio = precio\n",
    "        self.descripcion = descripcion\n",
    "        self.productor = productor\n",
    "        self.distribuidor = distribuidor\n",
    "        self.isbs = isbn\n",
    "        self.autor = autor\n",
    "        \n",
    "        \n",
    "adorno = Producto('000A', \"ADORNO\", \"Vaso Adorno\", 15, \"Vaso de porcelana con dibujos\")  \n",
    "      \n",
    "        "
   ]
  },
  {
   "cell_type": "code",
   "execution_count": 2,
   "metadata": {},
   "outputs": [
    {
     "data": {
      "text/plain": [
       "<__main__.Producto at 0x7f22ac3af7b8>"
      ]
     },
     "execution_count": 2,
     "metadata": {},
     "output_type": "execute_result"
    }
   ],
   "source": [
    "adorno"
   ]
  },
  {
   "cell_type": "code",
   "execution_count": 3,
   "metadata": {},
   "outputs": [
    {
     "data": {
      "text/plain": [
       "'ADORNO'"
      ]
     },
     "execution_count": 3,
     "metadata": {},
     "output_type": "execute_result"
    }
   ],
   "source": [
    "adorno.tipo"
   ]
  },
  {
   "cell_type": "code",
   "execution_count": 4,
   "metadata": {},
   "outputs": [
    {
     "data": {
      "text/plain": [
       "'000A'"
      ]
     },
     "execution_count": 4,
     "metadata": {},
     "output_type": "execute_result"
    }
   ],
   "source": [
    "adorno.referencia"
   ]
  },
  {
   "cell_type": "markdown",
   "metadata": {},
   "source": [
    "#### Debemos siempre identificar las Super clases y las subclases siempre en singular"
   ]
  },
  {
   "cell_type": "markdown",
   "metadata": {},
   "source": [
    "La superclase agrupa lo que es comun en las subclases\n",
    "\n",
    "En este caso la super clase es Producto.\n",
    "\n",
    "Las subclases seria Adorno, Alimento y Libro y cada uno tambien posee sus atributos y metodos.\n"
   ]
  },
  {
   "cell_type": "code",
   "execution_count": 19,
   "metadata": {},
   "outputs": [
    {
     "name": "stdout",
     "output_type": "stream",
     "text": [
      "        Referencia: \t000A\n",
      "        Nombre: \tVaso Adorno\n",
      "        Precio: \t15\n",
      "        Descripcion: \tVaso de porcelana con Paisajes\n"
     ]
    }
   ],
   "source": [
    "# Super Clase Producto\n",
    "class Producto:\n",
    "    def __init__(self, referencia, tipo, nombre, precio, descripcion):\n",
    "        self.referencia = referencia\n",
    "        self.tipo =  tipo\n",
    "        self.nombre = nombre\n",
    "        self.precio = precio\n",
    "        self.descripcion = descripcion\n",
    "\n",
    "    def __str__(self):\n",
    "        return \"\"\"\\\n",
    "        Referencia: \\t{}\n",
    "        Nombre: \\t{}\n",
    "        Precio: \\t{}\n",
    "        Descripcion: \\t{}\"\"\".format(self.referencia, self.nombre, self.precio, self.descripcion)\n",
    "\n",
    "\n",
    "# Creamos la clase hija Adorno, que hereda de Producto\n",
    "class Adorno(Producto):\n",
    "        pass\n",
    "    \n",
    "    \n",
    "    \n",
    "a = Adorno('000A', \"ADORNO\", \"Vaso Adorno\", 15, \"Vaso de porcelana con Paisajes\")\n",
    "print(a)"
   ]
  },
  {
   "cell_type": "code",
   "execution_count": 7,
   "metadata": {},
   "outputs": [],
   "source": [
    "# Creamos la subclase Alimento que herede de producto"
   ]
  },
  {
   "cell_type": "code",
   "execution_count": 25,
   "metadata": {},
   "outputs": [
    {
     "name": "stdout",
     "output_type": "stream",
     "text": [
      "        Referencia: \t000D\n",
      "        Nombre: \tTOMATE\n",
      "        Precio: \t5\n",
      "        Descripcion: \tTOMATE CHONTO\n",
      "        Productor: \tFrutales\n",
      "        Distribuidor: \tDistri S.A.S\n"
     ]
    }
   ],
   "source": [
    "class Alimento(Producto):\n",
    "    productor = \"\"\n",
    "    distribuidor = \"\"\n",
    "    \n",
    "    def __str__(self):\n",
    "        return \"\"\"\\\n",
    "        Referencia: \\t{}\n",
    "        Nombre: \\t{}\n",
    "        Precio: \\t{}\n",
    "        Descripcion: \\t{}\n",
    "        Productor: \\t{}\n",
    "        Distribuidor: \\t{}\"\"\".format(self.referencia, self.nombre, self.precio, self.descripcion, self.productor,self.distribuidor)\n",
    "        \n",
    "    \n",
    "alimento = Alimento('000D', \"ALIMENTO\", \"TOMATE\",5,\"TOMATE CHONTO\")   \n",
    "alimento.productor = \"Frutales\"\n",
    "alimento.distribuidor = \"Distri S.A.S\"\n",
    "\n",
    "print(alimento)\n",
    "    "
   ]
  },
  {
   "cell_type": "code",
   "execution_count": 29,
   "metadata": {},
   "outputs": [
    {
     "name": "stdout",
     "output_type": "stream",
     "text": [
      "        Referencia: \t000E\n",
      "        Nombre: \tLibro de Python Basico\n",
      "        Precio: \t17\n",
      "        Descripcion: \tLibro de Python Basico sentencias y conceptos\n",
      "        ISBN: \t\t8789HB\n",
      "        Autor: \t\tJuan David Espitia\n"
     ]
    }
   ],
   "source": [
    "# SubClase Libro\n",
    "class Libro(Producto):\n",
    "    isbn = \"\"\n",
    "    autor = \"\"\n",
    "    \n",
    "    def __str__(self):\n",
    "        return \"\"\"\\\n",
    "        Referencia: \\t{}\n",
    "        Nombre: \\t{}\n",
    "        Precio: \\t{}\n",
    "        Descripcion: \\t{}\n",
    "        ISBN: \\t\\t{}\n",
    "        Autor: \\t\\t{}\"\"\".format(self.referencia, self.nombre, self.precio, self.descripcion, self.isbn,self.autor)\n",
    "        \n",
    "libro = Libro('000E', \"Libro\", \"Libro de Python Basico\",17,\"Libro de Python Basico sentencias y conceptos\")\n",
    "libro.isbn = \"8789HB\"\n",
    "libro.autor = \"Juan David Espitia\"\n",
    "print(libro)"
   ]
  },
  {
   "cell_type": "markdown",
   "metadata": {},
   "source": [
    "### Ejemplo # 2"
   ]
  },
  {
   "cell_type": "code",
   "execution_count": 82,
   "metadata": {},
   "outputs": [],
   "source": [
    "class Persona(object):\n",
    "    \"\"\"Clase que representa una Persona\"\"\"\n",
    "\n",
    "    def __init__(self, cedula, nombre, apellido, sexo):\n",
    "        \"\"\"Constructor de clase Persona\"\"\"\n",
    "        self.cedula = cedula\n",
    "        self.nombre = nombre\n",
    "        self.apellido = apellido\n",
    "        self.sexo = sexo\n",
    "\n",
    "    def __str__(self):\n",
    "        \"\"\"Devuelve una cadena representativa de Persona\"\"\"\n",
    "        return \"%s: %s, %s %s, %s.\" % (\n",
    "            self.__doc__[25:34], str(self.cedula), self.nombre, \n",
    "            self.apellido, self.getGenero(self.sexo))\n",
    "\n",
    "    def hablar(self, mensaje):\n",
    "        \"\"\"Mostrar mensaje de saludo de Persona\"\"\"\n",
    "        return mensaje\n",
    "\n",
    "    def getGenero(self, sexo):\n",
    "        \"\"\"Mostrar el genero de la Persona\"\"\"\n",
    "        genero = ('Masculino','Femenino')\n",
    "        if sexo == \"M\":\n",
    "            return genero[0]\n",
    "        elif sexo == \"F\":\n",
    "            return genero[1]\n",
    "        else:\n",
    "            return \"Desconocido\""
   ]
  },
  {
   "cell_type": "code",
   "execution_count": 83,
   "metadata": {},
   "outputs": [],
   "source": [
    "persona1 = Persona(\"V-13458796\", \"Leonardo\", \"Caballero\", \"M\")\n",
    "persona2 = Persona(\"V-23569874\", \"Ana\", \"Poleo\", \"F\")"
   ]
  },
  {
   "cell_type": "code",
   "execution_count": 84,
   "metadata": {},
   "outputs": [],
   "source": [
    "class Supervisor(Persona):\n",
    "    \"\"\"Clase que representa a un Supervisor\"\"\"\n",
    "\n",
    "    def __init__(self, cedula, nombre, apellido, sexo, rol):\n",
    "        \"\"\"Constructor de clase Supervisor\"\"\"\n",
    "\n",
    "        # Invoca al constructor de clase Persona\n",
    "        Persona.__init__(self, cedula, nombre, apellido, sexo)\n",
    "\n",
    "        # Nuevos atributos\n",
    "        self.rol = rol\n",
    "        self.tareas = ['10','11','12','13']\n",
    "\n",
    "    def __str__(self):\n",
    "        \"\"\"Devuelve una cadena representativa al Supervisor\"\"\"\n",
    "        return \"%s: %s %s, rol: '%s', sus tareas: %s.\" % (\n",
    "            self.__doc__[26:37], self.nombre, self.apellido, \n",
    "            self.rol, self.consulta_tareas())\n",
    "\n",
    "    def consulta_tareas(self):\n",
    "        \"\"\"Mostrar las tareas del Supervisor\"\"\"\n",
    "        return ', '.join(self.tareas)"
   ]
  },
  {
   "cell_type": "code",
   "execution_count": 85,
   "metadata": {},
   "outputs": [
    {
     "name": "stdout",
     "output_type": "stream",
     "text": [
      "Supervisor: Jen Paz, rol: 'Chivo', sus tareas: 10, 11, 12, 13.\n"
     ]
    }
   ],
   "source": [
    "supervisor1 = Supervisor(\"V-16987456\", \"Jen\", \"Paz\", \"D\", \"Chivo\")\n",
    "print(supervisor1)"
   ]
  },
  {
   "cell_type": "markdown",
   "metadata": {},
   "source": [
    "### Ejemplo # 3"
   ]
  },
  {
   "cell_type": "code",
   "execution_count": 86,
   "metadata": {},
   "outputs": [
    {
     "name": "stdout",
     "output_type": "stream",
     "text": [
      "color azul, 4 km/h, 150 ruedas, 1200 cc\n"
     ]
    }
   ],
   "source": [
    "class Vehiculo():\n",
    "\n",
    "    def __init__(self, color, ruedas):\n",
    "        self.color = color\n",
    "        self.ruedas = ruedas\n",
    "\n",
    "    def __str__(self):\n",
    "        return \"Color {}, {} ruedas\".format( self.color, self.ruedas )\n",
    "\n",
    "class Coche(Vehiculo):\n",
    "\n",
    "    def __init__(self, color, ruedas, velocidad, cilindrada):\n",
    "        self.color = color\n",
    "        self.ruedas = ruedas\n",
    "        self.velocidad = velocidad\n",
    "        self.cilindrada = cilindrada\n",
    "\n",
    "    def __str__(self):\n",
    "        return \"color {}, {} km/h, {} ruedas, {} cc\".format( self.color, self.velocidad, self.ruedas, self.cilindrada )\n",
    "\n",
    "\n",
    "coche = Coche(\"azul\", 150, 4, 1200)\n",
    "print(coche)"
   ]
  },
  {
   "cell_type": "markdown",
   "metadata": {},
   "source": [
    "## Clases Heredadas y Polimorfismo"
   ]
  },
  {
   "cell_type": "code",
   "execution_count": 1,
   "metadata": {},
   "outputs": [],
   "source": [
    "# Super Clase Producto\n",
    "class Producto:\n",
    "    def __init__(self, referencia, tipo, nombre, precio, descripcion):\n",
    "        self.referencia = referencia\n",
    "        self.tipo =  tipo\n",
    "        self.nombre = nombre\n",
    "        self.precio = precio\n",
    "        self.descripcion = descripcion\n",
    "\n",
    "    def __str__(self):\n",
    "        return \"\"\"\\\n",
    "        Referencia: \\t{}\n",
    "        Nombre: \\t{}\n",
    "        Precio: \\t{}\n",
    "        Descripcion: \\t{}\"\"\".format(self.referencia, self.nombre, self.precio, self.descripcion)\n",
    "\n",
    "\n",
    "# Creamos la clase hija Adorno, que hereda de Producto\n",
    "class Adorno(Producto):\n",
    "        pass\n",
    "    \n",
    "# Subclase Alimentos  \n",
    "class Alimento(Producto):\n",
    "    productor = \"\"\n",
    "    distribuidor = \"\"\n",
    "    \n",
    "    def __str__(self):\n",
    "        return \"\"\"\\\n",
    "        Referencia: \\t{}\n",
    "        Nombre: \\t{}\n",
    "        Precio: \\t{}\n",
    "        Descripcion: \\t{}\n",
    "        Productor: \\t{}\n",
    "        Distribuidor: \\t{}\"\"\".format(self.referencia, self.nombre, self.precio, self.descripcion, self.productor,self.distribuidor)\n",
    "    \n",
    "\n",
    "# SubClase Libro\n",
    "class Libro(Producto):\n",
    "    isbn = \"\"\n",
    "    autor = \"\"\n",
    "    \n",
    "    def __str__(self):\n",
    "        return \"\"\"\\\n",
    "        Referencia: \\t{}\n",
    "        Nombre: \\t{}\n",
    "        Precio: \\t{}\n",
    "        Descripcion: \\t{}\n",
    "        ISBN: \\t\\t{}\n",
    "        Autor: \\t\\t{}\"\"\".format(self.referencia, self.nombre, self.precio, self.descripcion, self.isbn,self.autor)\n",
    "    "
   ]
  },
  {
   "cell_type": "code",
   "execution_count": 7,
   "metadata": {},
   "outputs": [],
   "source": [
    "# Creamos los objetos\n",
    "adorno = Adorno(100, \"ADORNO\", \"ESPEJO\",12,\"Espejo para el Hogar\")\n",
    "\n",
    "alimento = Alimento(200, \"ALIMENTO\", \"PAPA\",100,\"Papa Pastusa\")   \n",
    "alimento.productor = \"Frutales\"\n",
    "alimento.distribuidor = \"Distri S.A.S\"\n",
    "\n",
    "libro = Libro(300, \"Libro\", \"Libro ML\",17,\"Libro de Python para ML\")\n",
    "libro.isbn = \"87895-23423-43\"\n",
    "libro.autor = \"Juan David Espitia\"\n"
   ]
  },
  {
   "cell_type": "code",
   "execution_count": 8,
   "metadata": {},
   "outputs": [
    {
     "data": {
      "text/plain": [
       "[<__main__.Adorno at 0x7f96c906ea58>,\n",
       " <__main__.Alimento at 0x7f96c906ea20>,\n",
       " <__main__.Libro at 0x7f96c906e8d0>]"
      ]
     },
     "execution_count": 8,
     "metadata": {},
     "output_type": "execute_result"
    }
   ],
   "source": [
    "# añadimos los productos a una lista\n",
    "productos = [adorno, alimento]\n",
    "productos.append(libro)\n",
    "productos # Lista con los tres objetos"
   ]
  },
  {
   "cell_type": "code",
   "execution_count": 9,
   "metadata": {},
   "outputs": [
    {
     "name": "stdout",
     "output_type": "stream",
     "text": [
      "        Referencia: \t100\n",
      "        Nombre: \tESPEJO\n",
      "        Precio: \t12\n",
      "        Descripcion: \tEspejo para el Hogar \n",
      "\n",
      "        Referencia: \t200\n",
      "        Nombre: \tPAPA\n",
      "        Precio: \t100\n",
      "        Descripcion: \tPapa Pastusa\n",
      "        Productor: \tFrutales\n",
      "        Distribuidor: \tDistri S.A.S \n",
      "\n",
      "        Referencia: \t300\n",
      "        Nombre: \tLibro ML\n",
      "        Precio: \t17\n",
      "        Descripcion: \tLibro de Python para ML\n",
      "        ISBN: \t\t87895-23423-43\n",
      "        Autor: \t\tJuan David Espitia \n",
      "\n"
     ]
    }
   ],
   "source": [
    "# Recorremos los productos con un for en la lista\n",
    "for p in productos:\n",
    "    print(p, \"\\n\")"
   ]
  },
  {
   "cell_type": "code",
   "execution_count": 10,
   "metadata": {},
   "outputs": [
    {
     "name": "stdout",
     "output_type": "stream",
     "text": [
      "100 ESPEJO \n",
      "\n",
      "200 PAPA \n",
      "\n",
      "300 Libro ML \n",
      "\n"
     ]
    }
   ],
   "source": [
    "for p in productos:\n",
    "    print(p.referencia, p.nombre, \"\\n\")"
   ]
  },
  {
   "cell_type": "code",
   "execution_count": 11,
   "metadata": {},
   "outputs": [
    {
     "ename": "AttributeError",
     "evalue": "'Adorno' object has no attribute 'autor'",
     "output_type": "error",
     "traceback": [
      "\u001b[0;31m---------------------------------------------------------------------------\u001b[0m",
      "\u001b[0;31mAttributeError\u001b[0m                            Traceback (most recent call last)",
      "\u001b[0;32m<ipython-input-11-9248d1f3c05d>\u001b[0m in \u001b[0;36m<module>\u001b[0;34m()\u001b[0m\n\u001b[1;32m      1\u001b[0m \u001b[0;32mfor\u001b[0m \u001b[0mp\u001b[0m \u001b[0;32min\u001b[0m \u001b[0mproductos\u001b[0m\u001b[0;34m:\u001b[0m\u001b[0;34m\u001b[0m\u001b[0;34m\u001b[0m\u001b[0m\n\u001b[0;32m----> 2\u001b[0;31m     \u001b[0mprint\u001b[0m\u001b[0;34m(\u001b[0m\u001b[0mp\u001b[0m\u001b[0;34m.\u001b[0m\u001b[0mautor\u001b[0m\u001b[0;34m,\u001b[0m \u001b[0mp\u001b[0m\u001b[0;34m.\u001b[0m\u001b[0misbn\u001b[0m\u001b[0;34m,\u001b[0m \u001b[0;34m\"\\n\"\u001b[0m\u001b[0;34m)\u001b[0m\u001b[0;34m\u001b[0m\u001b[0;34m\u001b[0m\u001b[0m\n\u001b[0m\u001b[1;32m      3\u001b[0m     \u001b[0;31m# error por que el objeto no tiene esos atributos, solo lo tiene la clase principal\u001b[0m\u001b[0;34m\u001b[0m\u001b[0;34m\u001b[0m\u001b[0;34m\u001b[0m\u001b[0m\n",
      "\u001b[0;31mAttributeError\u001b[0m: 'Adorno' object has no attribute 'autor'"
     ]
    }
   ],
   "source": [
    "for p in productos:\n",
    "    print(p.autor, p.isbn, \"\\n\")\n",
    "    # error por que el objeto no tiene esos atributos, solo lo tiene la clase principal"
   ]
  },
  {
   "cell_type": "code",
   "execution_count": 12,
   "metadata": {},
   "outputs": [
    {
     "name": "stdout",
     "output_type": "stream",
     "text": [
      "100 ESPEJO\n",
      "200 PAPA Frutales\n",
      "300 Libro ML 87895-23423-43\n"
     ]
    }
   ],
   "source": [
    "for p in productos:\n",
    "    if (isinstance(p, Adorno)): # Nos permite comprobar si es del tipo obejto que buscamos y obtener sus atributos\n",
    "        print(p.referencia, p.nombre)\n",
    "    elif(isinstance(p, Alimento)):\n",
    "        print(p.referencia, p.nombre, p.productor)\n",
    "    elif(isinstance(p, Libro)):\n",
    "        print(p.referencia, p.nombre, p.isbn)"
   ]
  },
  {
   "cell_type": "code",
   "execution_count": 13,
   "metadata": {},
   "outputs": [
    {
     "name": "stdout",
     "output_type": "stream",
     "text": [
      "        Referencia: \t200\n",
      "        Nombre: \tPAPA\n",
      "        Precio: \t90.0\n",
      "        Descripcion: \tPapa Pastusa\n",
      "        Productor: \tFrutales\n",
      "        Distribuidor: \tDistri S.A.S\n"
     ]
    }
   ],
   "source": [
    "# Una funcionb que reciba productos y realice una modificacion\n",
    "\n",
    "def rebajarProducto(p, rebaja):\n",
    "    \"\"\"Devulve un producto con una rebaja en porcentaje de su precio\"\"\"\n",
    "    p.precio = p.precio - (p.precio/100 * rebaja)\n",
    "    return p\n",
    "\n",
    "# Se le envia un descuento del 10 por ciento\n",
    "alimento_rebajado = rebajarProducto(alimento, 10)\n",
    "print(alimento_rebajado)\n",
    "\n",
    "\n"
   ]
  },
  {
   "cell_type": "code",
   "execution_count": 14,
   "metadata": {},
   "outputs": [
    {
     "name": "stdout",
     "output_type": "stream",
     "text": [
      "        Referencia: \t200\n",
      "        Nombre: \tPAPA\n",
      "        Precio: \t45.0\n",
      "        Descripcion: \tPapa Pastusa\n",
      "        Productor: \tFrutales\n",
      "        Distribuidor: \tDistri S.A.S\n"
     ]
    }
   ],
   "source": [
    "# Se le envia un descuento del 50% al producto anterior que ya se le hizo el 10 %\n",
    "alimento_rebajado = rebajarProducto(alimento, 50)\n",
    "print(alimento_rebajado)"
   ]
  },
  {
   "cell_type": "code",
   "execution_count": 15,
   "metadata": {},
   "outputs": [
    {
     "name": "stdout",
     "output_type": "stream",
     "text": [
      "        Referencia: \t200\n",
      "        Nombre: \tPAPA\n",
      "        Precio: \t45.0\n",
      "        Descripcion: \tPapa Pastusa\n",
      "        Productor: \tFrutales\n",
      "        Distribuidor: \tDistri S.A.S\n"
     ]
    }
   ],
   "source": [
    "# ahora mostramos el obejto completo\n",
    "# Por valor se pasa una copia, por referencia se pasa el original\n",
    "print(alimento) # Se modifico el objeto original"
   ]
  },
  {
   "cell_type": "code",
   "execution_count": 16,
   "metadata": {},
   "outputs": [],
   "source": [
    "copia_alimento = alimento"
   ]
  },
  {
   "cell_type": "code",
   "execution_count": 17,
   "metadata": {},
   "outputs": [
    {
     "name": "stdout",
     "output_type": "stream",
     "text": [
      "        Referencia: \t200\n",
      "        Nombre: \tPAPA\n",
      "        Precio: \t45.0\n",
      "        Descripcion: \tPapa Pastusa\n",
      "        Productor: \tFrutales\n",
      "        Distribuidor: \tDistri S.A.S\n"
     ]
    }
   ],
   "source": [
    "# Hicimos una copia del objeto original para tratar con un objeto original\n",
    "print(copia_alimento)"
   ]
  },
  {
   "cell_type": "code",
   "execution_count": 18,
   "metadata": {},
   "outputs": [],
   "source": [
    "# En si no se pueden duplicar los objetos o estructuras de datos \n",
    "# se toma es un acceso directo a la objeto en si\n",
    "l = [1,2,3]\n",
    "l2 =  l"
   ]
  },
  {
   "cell_type": "code",
   "execution_count": 19,
   "metadata": {},
   "outputs": [
    {
     "data": {
      "text/plain": [
       "[1, 2, 3]"
      ]
     },
     "execution_count": 19,
     "metadata": {},
     "output_type": "execute_result"
    }
   ],
   "source": [
    "l2"
   ]
  },
  {
   "cell_type": "code",
   "execution_count": 20,
   "metadata": {},
   "outputs": [],
   "source": [
    "l2.append(4)"
   ]
  },
  {
   "cell_type": "code",
   "execution_count": 21,
   "metadata": {},
   "outputs": [
    {
     "data": {
      "text/plain": [
       "[1, 2, 3, 4]"
      ]
     },
     "execution_count": 21,
     "metadata": {},
     "output_type": "execute_result"
    }
   ],
   "source": [
    "l"
   ]
  },
  {
   "cell_type": "code",
   "execution_count": 23,
   "metadata": {},
   "outputs": [
    {
     "name": "stdout",
     "output_type": "stream",
     "text": [
      "        Referencia: \t300\n",
      "        Nombre: \tLibro ML\n",
      "        Precio: \t17\n",
      "        Descripcion: \tLibro de Python para ML\n",
      "        ISBN: \t\t87895-23423-43\n",
      "        Autor: \t\tJuan David Espitia\n"
     ]
    }
   ],
   "source": [
    "# vemos que se modifico el objeto original,\n",
    "# para copiar verdaderamente el objeto se hace mediante el metodo Copy()\n",
    "\n",
    "import copy\n",
    "copia_libro = libro\n",
    "\n",
    "# Con esta funcion modificamos el objeto copiado y no el original\n",
    "print(copia_libro)"
   ]
  },
  {
   "cell_type": "markdown",
   "metadata": {},
   "source": [
    "Polimorfismo\n",
    "\n",
    "Es una propiedad de la herencia en que objetos de distintas subclases pueden responder a una misma accion"
   ]
  },
  {
   "cell_type": "markdown",
   "metadata": {},
   "source": [
    "En python todas las clases son a su vez subclases de la superclase Object  y son polimorficas por defecto"
   ]
  },
  {
   "cell_type": "markdown",
   "metadata": {},
   "source": [
    "## Herencia Multiple"
   ]
  },
  {
   "cell_type": "markdown",
   "metadata": {},
   "source": [
    "Hace referencia a que una subclase herede de varias superclases a la vez, de manera que puede heredar diferentes atributos y metodos"
   ]
  },
  {
   "cell_type": "code",
   "execution_count": 26,
   "metadata": {},
   "outputs": [
    {
     "name": "stdout",
     "output_type": "stream",
     "text": [
      "Soy de clase A\n"
     ]
    }
   ],
   "source": [
    "class A:\n",
    "    def __init__(self):\n",
    "        print(\"Soy de clase A\")\n",
    "        \n",
    "class B:\n",
    "    def __init__(self):\n",
    "        print(\"Soy de clase B\")\n",
    "        \n",
    "class C(A, B):\n",
    "    pass\n",
    "    \n",
    "\n",
    "c = C() # Tiene priorodad el que esta a la izquierda\n",
    "    "
   ]
  },
  {
   "cell_type": "code",
   "execution_count": 28,
   "metadata": {},
   "outputs": [
    {
     "name": "stdout",
     "output_type": "stream",
     "text": [
      "Soy de clase B\n"
     ]
    }
   ],
   "source": [
    "class A:\n",
    "    def __init__(self):\n",
    "        print(\"Soy de clase A\")\n",
    "        \n",
    "    def a(self):\n",
    "        print(\"Este metodo lo heredo de A\")\n",
    "        \n",
    "        \n",
    "class B:\n",
    "    def __init__(self):\n",
    "        print(\"Soy de clase B\")\n",
    "        \n",
    "    def b(self):\n",
    "        print(\"Este metodo lo heredo de B\")\n",
    "        \n",
    "        \n",
    "class C(B, A):\n",
    "    def c(self):\n",
    "        print(\"Este metodo es de C\")\n",
    "    \n",
    "\n",
    "c = C() # Tiene priorodad el que esta a la izquierda"
   ]
  },
  {
   "cell_type": "code",
   "execution_count": 29,
   "metadata": {},
   "outputs": [
    {
     "name": "stdout",
     "output_type": "stream",
     "text": [
      "Este metodo lo heredo de A\n"
     ]
    }
   ],
   "source": [
    "c.a()"
   ]
  },
  {
   "cell_type": "code",
   "execution_count": 30,
   "metadata": {},
   "outputs": [
    {
     "name": "stdout",
     "output_type": "stream",
     "text": [
      "Este metodo lo heredo de B\n"
     ]
    }
   ],
   "source": [
    "c.b()"
   ]
  },
  {
   "cell_type": "code",
   "execution_count": 31,
   "metadata": {},
   "outputs": [
    {
     "name": "stdout",
     "output_type": "stream",
     "text": [
      "Este metodo es de C\n"
     ]
    }
   ],
   "source": [
    "c.c()"
   ]
  },
  {
   "cell_type": "code",
   "execution_count": null,
   "metadata": {},
   "outputs": [],
   "source": []
  }
 ],
 "metadata": {
  "kernelspec": {
   "display_name": "Python 3",
   "language": "python",
   "name": "python3"
  },
  "language_info": {
   "codemirror_mode": {
    "name": "ipython",
    "version": 3
   },
   "file_extension": ".py",
   "mimetype": "text/x-python",
   "name": "python",
   "nbconvert_exporter": "python",
   "pygments_lexer": "ipython3",
   "version": "3.6.9"
  }
 },
 "nbformat": 4,
 "nbformat_minor": 2
}
